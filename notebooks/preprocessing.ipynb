{
 "cells": [
  {
   "cell_type": "code",
   "execution_count": 127,
   "id": "5f391d15",
   "metadata": {},
   "outputs": [],
   "source": [
    "import fitz\n",
    "from nltk.tokenize import sent_tokenize\n",
    "import pandas as pd\n",
    "import requests\n",
    "import pdfkit\n",
    "\n",
    "wkhtmltopdf_path = r\"C:\\Program Files\\wkhtmltopdf\\bin\\wkhtmltopdf.exe\""
   ]
  },
  {
   "cell_type": "markdown",
   "id": "adb8f0a8",
   "metadata": {},
   "source": [
    "## Download PDFs and store in `/data/raw/`\n",
    "\n",
    "- use the links from `Exhibit-Excel-08-10-2025.xlsx` "
   ]
  },
  {
   "cell_type": "code",
   "execution_count": 106,
   "id": "ebc64ef3",
   "metadata": {},
   "outputs": [
    {
     "data": {
      "text/html": [
       "<div>\n",
       "<style scoped>\n",
       "    .dataframe tbody tr th:only-of-type {\n",
       "        vertical-align: middle;\n",
       "    }\n",
       "\n",
       "    .dataframe tbody tr th {\n",
       "        vertical-align: top;\n",
       "    }\n",
       "\n",
       "    .dataframe thead th {\n",
       "        text-align: right;\n",
       "    }\n",
       "</style>\n",
       "<table border=\"1\" class=\"dataframe\">\n",
       "  <thead>\n",
       "    <tr style=\"text-align: right;\">\n",
       "      <th></th>\n",
       "      <th>ID</th>\n",
       "      <th>CIK</th>\n",
       "      <th>Company</th>\n",
       "      <th>Sec Url</th>\n",
       "      <th>Lexample Url</th>\n",
       "      <th>Number</th>\n",
       "      <th>Filing Date</th>\n",
       "      <th>Description</th>\n",
       "    </tr>\n",
       "  </thead>\n",
       "  <tbody>\n",
       "    <tr>\n",
       "      <th>0</th>\n",
       "      <td>5522470</td>\n",
       "      <td>1997377</td>\n",
       "      <td>IsoEnergy Ltd.</td>\n",
       "      <td>https://www.sec.gov/Archives/edgar/data/199737...</td>\n",
       "      <td>https://lexamples.com/exhibits/contents/NTUyMj...</td>\n",
       "      <td>99.1</td>\n",
       "      <td>2025-07-15</td>\n",
       "      <td>News Release dated July 15, 2025 - IsoEnergy R...</td>\n",
       "    </tr>\n",
       "    <tr>\n",
       "      <th>1</th>\n",
       "      <td>5520781</td>\n",
       "      <td>1513845</td>\n",
       "      <td>Yandex N.V.</td>\n",
       "      <td>https://www.sec.gov/Archives/edgar/data/151384...</td>\n",
       "      <td>https://lexamples.com/exhibits/contents/NTUyMD...</td>\n",
       "      <td>99.1</td>\n",
       "      <td>2025-07-10</td>\n",
       "      <td>Press release of Nebius Group N.V. dated July ...</td>\n",
       "    </tr>\n",
       "    <tr>\n",
       "      <th>2</th>\n",
       "      <td>5509529</td>\n",
       "      <td>1173420</td>\n",
       "      <td>NOVAGOLD RESOURCES INC</td>\n",
       "      <td>https://www.sec.gov/Archives/edgar/data/117342...</td>\n",
       "      <td>https://lexamples.com/exhibits/contents/NTUwOT...</td>\n",
       "      <td>99.1</td>\n",
       "      <td>2025-06-16</td>\n",
       "      <td>Press release, dated June 16, 2025 issued by N...</td>\n",
       "    </tr>\n",
       "    <tr>\n",
       "      <th>3</th>\n",
       "      <td>5500739</td>\n",
       "      <td>771992</td>\n",
       "      <td>PAN AMERICAN SILVER CORP</td>\n",
       "      <td>https://www.sec.gov/Archives/edgar/data/771992...</td>\n",
       "      <td>https://lexamples.com/exhibits/contents/NTUwMD...</td>\n",
       "      <td>99.1</td>\n",
       "      <td>2025-05-29</td>\n",
       "      <td>News Release - Pan American Silver Releases 20...</td>\n",
       "    </tr>\n",
       "    <tr>\n",
       "      <th>4</th>\n",
       "      <td>5497256</td>\n",
       "      <td>1402388</td>\n",
       "      <td>WEST FRASER TIMBER CO., LTD</td>\n",
       "      <td>https://www.sec.gov/Archives/edgar/data/140238...</td>\n",
       "      <td>https://lexamples.com/exhibits/contents/NTQ5Nz...</td>\n",
       "      <td>99.1</td>\n",
       "      <td>2025-05-22</td>\n",
       "      <td>News release dated May 22, 2025 re: West Frase...</td>\n",
       "    </tr>\n",
       "  </tbody>\n",
       "</table>\n",
       "</div>"
      ],
      "text/plain": [
       "        ID      CIK                      Company  \\\n",
       "0  5522470  1997377               IsoEnergy Ltd.   \n",
       "1  5520781  1513845                  Yandex N.V.   \n",
       "2  5509529  1173420       NOVAGOLD RESOURCES INC   \n",
       "3  5500739   771992     PAN AMERICAN SILVER CORP   \n",
       "4  5497256  1402388  WEST FRASER TIMBER CO., LTD   \n",
       "\n",
       "                                             Sec Url  \\\n",
       "0  https://www.sec.gov/Archives/edgar/data/199737...   \n",
       "1  https://www.sec.gov/Archives/edgar/data/151384...   \n",
       "2  https://www.sec.gov/Archives/edgar/data/117342...   \n",
       "3  https://www.sec.gov/Archives/edgar/data/771992...   \n",
       "4  https://www.sec.gov/Archives/edgar/data/140238...   \n",
       "\n",
       "                                        Lexample Url Number Filing Date  \\\n",
       "0  https://lexamples.com/exhibits/contents/NTUyMj...   99.1  2025-07-15   \n",
       "1  https://lexamples.com/exhibits/contents/NTUyMD...   99.1  2025-07-10   \n",
       "2  https://lexamples.com/exhibits/contents/NTUwOT...   99.1  2025-06-16   \n",
       "3  https://lexamples.com/exhibits/contents/NTUwMD...   99.1  2025-05-29   \n",
       "4  https://lexamples.com/exhibits/contents/NTQ5Nz...   99.1  2025-05-22   \n",
       "\n",
       "                                         Description  \n",
       "0  News Release dated July 15, 2025 - IsoEnergy R...  \n",
       "1  Press release of Nebius Group N.V. dated July ...  \n",
       "2  Press release, dated June 16, 2025 issued by N...  \n",
       "3  News Release - Pan American Silver Releases 20...  \n",
       "4  News release dated May 22, 2025 re: West Frase...  "
      ]
     },
     "execution_count": 106,
     "metadata": {},
     "output_type": "execute_result"
    }
   ],
   "source": [
    "lexamples_export_path = r\"..\\data\\Exhibit-Excel-08-10-2025.xlsx\"\n",
    "\n",
    "report_links = pd.read_excel(lexamples_export_path)\n",
    "report_links.head()"
   ]
  },
  {
   "cell_type": "code",
   "execution_count": null,
   "id": "49b2d600",
   "metadata": {},
   "outputs": [
    {
     "ename": "OSError",
     "evalue": "wkhtmltopdf reported an error:\nExit with code 1 due to network error: ProtocolUnknownError\r\n",
     "output_type": "error",
     "traceback": [
      "\u001b[31m---------------------------------------------------------------------------\u001b[39m",
      "\u001b[31mOSError\u001b[39m                                   Traceback (most recent call last)",
      "\u001b[36mCell\u001b[39m\u001b[36m \u001b[39m\u001b[32mIn[151]\u001b[39m\u001b[32m, line 8\u001b[39m\n\u001b[32m      3\u001b[39m config = pdfkit.configuration(wkhtmltopdf=wkhtmltopdf_path)\n\u001b[32m      6\u001b[39m \u001b[38;5;66;03m# pdfkit.from_url(url=url, output_path='sample.pdf', configuration=config)\u001b[39;00m\n\u001b[32m----> \u001b[39m\u001b[32m8\u001b[39m \u001b[43mreport_links\u001b[49m\u001b[43m.\u001b[49m\u001b[43mloc\u001b[49m\u001b[43m[\u001b[49m\u001b[43m:\u001b[49m\u001b[32;43m5\u001b[39;49m\u001b[43m,\u001b[49m\u001b[43m \u001b[49m\u001b[43m[\u001b[49m\u001b[33;43m'\u001b[39;49m\u001b[33;43mCompany\u001b[39;49m\u001b[33;43m'\u001b[39;49m\u001b[43m,\u001b[49m\u001b[43m \u001b[49m\u001b[33;43m'\u001b[39;49m\u001b[33;43mLexample Url\u001b[39;49m\u001b[33;43m'\u001b[39;49m\u001b[43m,\u001b[49m\u001b[43m \u001b[49m\u001b[33;43m'\u001b[39;49m\u001b[33;43mFiling Date\u001b[39;49m\u001b[33;43m'\u001b[39;49m\u001b[43m]\u001b[49m\u001b[43m]\u001b[49m\u001b[43m.\u001b[49m\u001b[43mapply\u001b[49m\u001b[43m(\u001b[49m\u001b[38;5;28;43;01mlambda\u001b[39;49;00m\u001b[43m \u001b[49m\u001b[43mx\u001b[49m\u001b[43m:\u001b[49m\u001b[43m \u001b[49m\n\u001b[32m      9\u001b[39m \u001b[43m                                                                      \u001b[49m\u001b[43mpdfkit\u001b[49m\u001b[43m.\u001b[49m\u001b[43mfrom_url\u001b[49m\u001b[43m(\u001b[49m\u001b[43murl\u001b[49m\u001b[43m=\u001b[49m\u001b[43mx\u001b[49m\u001b[43m[\u001b[49m\u001b[33;43m'\u001b[39;49m\u001b[33;43mLexample Url\u001b[39;49m\u001b[33;43m'\u001b[39;49m\u001b[43m]\u001b[49m\u001b[43m,\u001b[49m\u001b[43m \u001b[49m\u001b[43moutput_path\u001b[49m\u001b[43m=\u001b[49m\u001b[33;43mfr\u001b[39;49m\u001b[33;43m'\u001b[39;49m\u001b[33;43m..\u001b[39;49m\u001b[33;43m\\\u001b[39;49m\u001b[33;43mdata\u001b[39;49m\u001b[33;43m\\\u001b[39;49m\u001b[33;43mraw\u001b[39;49m\u001b[33;43m\\\u001b[39;49m\u001b[38;5;132;43;01m{\u001b[39;49;00m\u001b[43mx\u001b[49m\u001b[43m[\u001b[49m\u001b[33;43m'\u001b[39;49m\u001b[33;43mCompany\u001b[39;49m\u001b[33;43m'\u001b[39;49m\u001b[43m]\u001b[49m\u001b[38;5;132;43;01m}\u001b[39;49;00m\u001b[33;43m_\u001b[39;49m\u001b[38;5;132;43;01m{\u001b[39;49;00m\u001b[43mx\u001b[49m\u001b[43m[\u001b[49m\u001b[33;43m'\u001b[39;49m\u001b[33;43mFiling Date\u001b[39;49m\u001b[33;43m'\u001b[39;49m\u001b[43m]\u001b[49m\u001b[43m.\u001b[49m\u001b[43msplit\u001b[49m\u001b[43m(\u001b[49m\u001b[33;43m'\u001b[39;49m\u001b[33;43m-\u001b[39;49m\u001b[33;43m'\u001b[39;49m\u001b[43m)\u001b[49m\u001b[43m[\u001b[49m\u001b[32;43m0\u001b[39;49m\u001b[43m]\u001b[49m\u001b[38;5;132;43;01m}\u001b[39;49;00m\u001b[33;43m.pdf\u001b[39;49m\u001b[33;43m'\u001b[39;49m\u001b[43m,\u001b[49m\u001b[43m \u001b[49m\u001b[43mconfiguration\u001b[49m\u001b[43m=\u001b[49m\u001b[43mconfig\u001b[49m\u001b[43m)\u001b[49m\u001b[43m,\u001b[49m\u001b[43m \u001b[49m\n\u001b[32m     10\u001b[39m \u001b[43m                                                                      \u001b[49m\u001b[43maxis\u001b[49m\u001b[43m=\u001b[49m\u001b[32;43m1\u001b[39;49m\u001b[43m)\u001b[49m\n",
      "\u001b[36mFile \u001b[39m\u001b[32mc:\\Users\\krish\\Work\\projects\\esg-disclosure-classifier\\venv\\Lib\\site-packages\\pandas\\core\\frame.py:10381\u001b[39m, in \u001b[36mDataFrame.apply\u001b[39m\u001b[34m(self, func, axis, raw, result_type, args, by_row, engine, engine_kwargs, **kwargs)\u001b[39m\n\u001b[32m  10367\u001b[39m \u001b[38;5;28;01mfrom\u001b[39;00m\u001b[38;5;250m \u001b[39m\u001b[34;01mpandas\u001b[39;00m\u001b[34;01m.\u001b[39;00m\u001b[34;01mcore\u001b[39;00m\u001b[34;01m.\u001b[39;00m\u001b[34;01mapply\u001b[39;00m\u001b[38;5;250m \u001b[39m\u001b[38;5;28;01mimport\u001b[39;00m frame_apply\n\u001b[32m  10369\u001b[39m op = frame_apply(\n\u001b[32m  10370\u001b[39m     \u001b[38;5;28mself\u001b[39m,\n\u001b[32m  10371\u001b[39m     func=func,\n\u001b[32m   (...)\u001b[39m\u001b[32m  10379\u001b[39m     kwargs=kwargs,\n\u001b[32m  10380\u001b[39m )\n\u001b[32m> \u001b[39m\u001b[32m10381\u001b[39m \u001b[38;5;28;01mreturn\u001b[39;00m \u001b[43mop\u001b[49m\u001b[43m.\u001b[49m\u001b[43mapply\u001b[49m\u001b[43m(\u001b[49m\u001b[43m)\u001b[49m.__finalize__(\u001b[38;5;28mself\u001b[39m, method=\u001b[33m\"\u001b[39m\u001b[33mapply\u001b[39m\u001b[33m\"\u001b[39m)\n",
      "\u001b[36mFile \u001b[39m\u001b[32mc:\\Users\\krish\\Work\\projects\\esg-disclosure-classifier\\venv\\Lib\\site-packages\\pandas\\core\\apply.py:916\u001b[39m, in \u001b[36mFrameApply.apply\u001b[39m\u001b[34m(self)\u001b[39m\n\u001b[32m    913\u001b[39m \u001b[38;5;28;01melif\u001b[39;00m \u001b[38;5;28mself\u001b[39m.raw:\n\u001b[32m    914\u001b[39m     \u001b[38;5;28;01mreturn\u001b[39;00m \u001b[38;5;28mself\u001b[39m.apply_raw(engine=\u001b[38;5;28mself\u001b[39m.engine, engine_kwargs=\u001b[38;5;28mself\u001b[39m.engine_kwargs)\n\u001b[32m--> \u001b[39m\u001b[32m916\u001b[39m \u001b[38;5;28;01mreturn\u001b[39;00m \u001b[38;5;28;43mself\u001b[39;49m\u001b[43m.\u001b[49m\u001b[43mapply_standard\u001b[49m\u001b[43m(\u001b[49m\u001b[43m)\u001b[49m\n",
      "\u001b[36mFile \u001b[39m\u001b[32mc:\\Users\\krish\\Work\\projects\\esg-disclosure-classifier\\venv\\Lib\\site-packages\\pandas\\core\\apply.py:1063\u001b[39m, in \u001b[36mFrameApply.apply_standard\u001b[39m\u001b[34m(self)\u001b[39m\n\u001b[32m   1061\u001b[39m \u001b[38;5;28;01mdef\u001b[39;00m\u001b[38;5;250m \u001b[39m\u001b[34mapply_standard\u001b[39m(\u001b[38;5;28mself\u001b[39m):\n\u001b[32m   1062\u001b[39m     \u001b[38;5;28;01mif\u001b[39;00m \u001b[38;5;28mself\u001b[39m.engine == \u001b[33m\"\u001b[39m\u001b[33mpython\u001b[39m\u001b[33m\"\u001b[39m:\n\u001b[32m-> \u001b[39m\u001b[32m1063\u001b[39m         results, res_index = \u001b[38;5;28;43mself\u001b[39;49m\u001b[43m.\u001b[49m\u001b[43mapply_series_generator\u001b[49m\u001b[43m(\u001b[49m\u001b[43m)\u001b[49m\n\u001b[32m   1064\u001b[39m     \u001b[38;5;28;01melse\u001b[39;00m:\n\u001b[32m   1065\u001b[39m         results, res_index = \u001b[38;5;28mself\u001b[39m.apply_series_numba()\n",
      "\u001b[36mFile \u001b[39m\u001b[32mc:\\Users\\krish\\Work\\projects\\esg-disclosure-classifier\\venv\\Lib\\site-packages\\pandas\\core\\apply.py:1081\u001b[39m, in \u001b[36mFrameApply.apply_series_generator\u001b[39m\u001b[34m(self)\u001b[39m\n\u001b[32m   1078\u001b[39m \u001b[38;5;28;01mwith\u001b[39;00m option_context(\u001b[33m\"\u001b[39m\u001b[33mmode.chained_assignment\u001b[39m\u001b[33m\"\u001b[39m, \u001b[38;5;28;01mNone\u001b[39;00m):\n\u001b[32m   1079\u001b[39m     \u001b[38;5;28;01mfor\u001b[39;00m i, v \u001b[38;5;129;01min\u001b[39;00m \u001b[38;5;28menumerate\u001b[39m(series_gen):\n\u001b[32m   1080\u001b[39m         \u001b[38;5;66;03m# ignore SettingWithCopy here in case the user mutates\u001b[39;00m\n\u001b[32m-> \u001b[39m\u001b[32m1081\u001b[39m         results[i] = \u001b[38;5;28;43mself\u001b[39;49m\u001b[43m.\u001b[49m\u001b[43mfunc\u001b[49m\u001b[43m(\u001b[49m\u001b[43mv\u001b[49m\u001b[43m,\u001b[49m\u001b[43m \u001b[49m\u001b[43m*\u001b[49m\u001b[38;5;28;43mself\u001b[39;49m\u001b[43m.\u001b[49m\u001b[43margs\u001b[49m\u001b[43m,\u001b[49m\u001b[43m \u001b[49m\u001b[43m*\u001b[49m\u001b[43m*\u001b[49m\u001b[38;5;28;43mself\u001b[39;49m\u001b[43m.\u001b[49m\u001b[43mkwargs\u001b[49m\u001b[43m)\u001b[49m\n\u001b[32m   1082\u001b[39m         \u001b[38;5;28;01mif\u001b[39;00m \u001b[38;5;28misinstance\u001b[39m(results[i], ABCSeries):\n\u001b[32m   1083\u001b[39m             \u001b[38;5;66;03m# If we have a view on v, we need to make a copy because\u001b[39;00m\n\u001b[32m   1084\u001b[39m             \u001b[38;5;66;03m#  series_generator will swap out the underlying data\u001b[39;00m\n\u001b[32m   1085\u001b[39m             results[i] = results[i].copy(deep=\u001b[38;5;28;01mFalse\u001b[39;00m)\n",
      "\u001b[36mCell\u001b[39m\u001b[36m \u001b[39m\u001b[32mIn[151]\u001b[39m\u001b[32m, line 9\u001b[39m, in \u001b[36m<lambda>\u001b[39m\u001b[34m(x)\u001b[39m\n\u001b[32m      3\u001b[39m config = pdfkit.configuration(wkhtmltopdf=wkhtmltopdf_path)\n\u001b[32m      6\u001b[39m \u001b[38;5;66;03m# pdfkit.from_url(url=url, output_path='sample.pdf', configuration=config)\u001b[39;00m\n\u001b[32m      8\u001b[39m report_links.loc[:\u001b[32m5\u001b[39m, [\u001b[33m'\u001b[39m\u001b[33mCompany\u001b[39m\u001b[33m'\u001b[39m, \u001b[33m'\u001b[39m\u001b[33mLexample Url\u001b[39m\u001b[33m'\u001b[39m, \u001b[33m'\u001b[39m\u001b[33mFiling Date\u001b[39m\u001b[33m'\u001b[39m]].apply(\u001b[38;5;28;01mlambda\u001b[39;00m x: \n\u001b[32m----> \u001b[39m\u001b[32m9\u001b[39m                                                                       \u001b[43mpdfkit\u001b[49m\u001b[43m.\u001b[49m\u001b[43mfrom_url\u001b[49m\u001b[43m(\u001b[49m\u001b[43murl\u001b[49m\u001b[43m=\u001b[49m\u001b[43mx\u001b[49m\u001b[43m[\u001b[49m\u001b[33;43m'\u001b[39;49m\u001b[33;43mLexample Url\u001b[39;49m\u001b[33;43m'\u001b[39;49m\u001b[43m]\u001b[49m\u001b[43m,\u001b[49m\u001b[43m \u001b[49m\u001b[43moutput_path\u001b[49m\u001b[43m=\u001b[49m\u001b[33;43mfr\u001b[39;49m\u001b[33;43m'\u001b[39;49m\u001b[33;43m..\u001b[39;49m\u001b[33;43m\\\u001b[39;49m\u001b[33;43mdata\u001b[39;49m\u001b[33;43m\\\u001b[39;49m\u001b[33;43mraw\u001b[39;49m\u001b[33;43m\\\u001b[39;49m\u001b[38;5;132;43;01m{\u001b[39;49;00m\u001b[43mx\u001b[49m\u001b[43m[\u001b[49m\u001b[33;43m'\u001b[39;49m\u001b[33;43mCompany\u001b[39;49m\u001b[33;43m'\u001b[39;49m\u001b[43m]\u001b[49m\u001b[38;5;132;43;01m}\u001b[39;49;00m\u001b[33;43m_\u001b[39;49m\u001b[38;5;132;43;01m{\u001b[39;49;00m\u001b[43mx\u001b[49m\u001b[43m[\u001b[49m\u001b[33;43m'\u001b[39;49m\u001b[33;43mFiling Date\u001b[39;49m\u001b[33;43m'\u001b[39;49m\u001b[43m]\u001b[49m\u001b[43m.\u001b[49m\u001b[43msplit\u001b[49m\u001b[43m(\u001b[49m\u001b[33;43m'\u001b[39;49m\u001b[33;43m-\u001b[39;49m\u001b[33;43m'\u001b[39;49m\u001b[43m)\u001b[49m\u001b[43m[\u001b[49m\u001b[32;43m0\u001b[39;49m\u001b[43m]\u001b[49m\u001b[38;5;132;43;01m}\u001b[39;49;00m\u001b[33;43m.pdf\u001b[39;49m\u001b[33;43m'\u001b[39;49m\u001b[43m,\u001b[49m\u001b[43m \u001b[49m\u001b[43mconfiguration\u001b[49m\u001b[43m=\u001b[49m\u001b[43mconfig\u001b[49m\u001b[43m)\u001b[49m, \n\u001b[32m     10\u001b[39m                                                                       axis=\u001b[32m1\u001b[39m)\n",
      "\u001b[36mFile \u001b[39m\u001b[32mc:\\Users\\krish\\Work\\projects\\esg-disclosure-classifier\\venv\\Lib\\site-packages\\pdfkit\\api.py:27\u001b[39m, in \u001b[36mfrom_url\u001b[39m\u001b[34m(url, output_path, options, toc, cover, configuration, cover_first, verbose)\u001b[39m\n\u001b[32m      9\u001b[39m \u001b[38;5;250m\u001b[39m\u001b[33;03m\"\"\"\u001b[39;00m\n\u001b[32m     10\u001b[39m \u001b[33;03mConvert file of files from URLs to PDF document\u001b[39;00m\n\u001b[32m     11\u001b[39m \n\u001b[32m   (...)\u001b[39m\u001b[32m     21\u001b[39m \u001b[33;03mReturns: True on success\u001b[39;00m\n\u001b[32m     22\u001b[39m \u001b[33;03m\"\"\"\u001b[39;00m\n\u001b[32m     24\u001b[39m r = PDFKit(url, \u001b[33m'\u001b[39m\u001b[33murl\u001b[39m\u001b[33m'\u001b[39m, options=options, toc=toc, cover=cover,\n\u001b[32m     25\u001b[39m            configuration=configuration, cover_first=cover_first, verbose=verbose)\n\u001b[32m---> \u001b[39m\u001b[32m27\u001b[39m \u001b[38;5;28;01mreturn\u001b[39;00m \u001b[43mr\u001b[49m\u001b[43m.\u001b[49m\u001b[43mto_pdf\u001b[49m\u001b[43m(\u001b[49m\u001b[43moutput_path\u001b[49m\u001b[43m)\u001b[49m\n",
      "\u001b[36mFile \u001b[39m\u001b[32mc:\\Users\\krish\\Work\\projects\\esg-disclosure-classifier\\venv\\Lib\\site-packages\\pdfkit\\pdfkit.py:201\u001b[39m, in \u001b[36mPDFKit.to_pdf\u001b[39m\u001b[34m(self, path)\u001b[39m\n\u001b[32m    199\u001b[39m stderr = stderr.decode(\u001b[33m'\u001b[39m\u001b[33mutf-8\u001b[39m\u001b[33m'\u001b[39m, errors=\u001b[33m'\u001b[39m\u001b[33mreplace\u001b[39m\u001b[33m'\u001b[39m)\n\u001b[32m    200\u001b[39m exit_code = result.returncode\n\u001b[32m--> \u001b[39m\u001b[32m201\u001b[39m \u001b[38;5;28;43mself\u001b[39;49m\u001b[43m.\u001b[49m\u001b[43mhandle_error\u001b[49m\u001b[43m(\u001b[49m\u001b[43mexit_code\u001b[49m\u001b[43m,\u001b[49m\u001b[43m \u001b[49m\u001b[43mstderr\u001b[49m\u001b[43m)\u001b[49m\n\u001b[32m    203\u001b[39m \u001b[38;5;66;03m# Since wkhtmltopdf sends its output to stderr we will capture it\u001b[39;00m\n\u001b[32m    204\u001b[39m \u001b[38;5;66;03m# and properly send to stdout\u001b[39;00m\n\u001b[32m    205\u001b[39m \u001b[38;5;28;01mif\u001b[39;00m \u001b[33m'\u001b[39m\u001b[33m--quiet\u001b[39m\u001b[33m'\u001b[39m \u001b[38;5;129;01mnot\u001b[39;00m \u001b[38;5;129;01min\u001b[39;00m args:\n",
      "\u001b[36mFile \u001b[39m\u001b[32mc:\\Users\\krish\\Work\\projects\\esg-disclosure-classifier\\venv\\Lib\\site-packages\\pdfkit\\pdfkit.py:155\u001b[39m, in \u001b[36mPDFKit.handle_error\u001b[39m\u001b[34m(exit_code, stderr)\u001b[39m\n\u001b[32m    149\u001b[39m     \u001b[38;5;28;01mraise\u001b[39;00m \u001b[38;5;167;01mIOError\u001b[39;00m(\u001b[33m'\u001b[39m\u001b[38;5;132;01m%s\u001b[39;00m\u001b[38;5;130;01m\\n\u001b[39;00m\u001b[33m'\u001b[39m\n\u001b[32m    150\u001b[39m                   \u001b[33m'\u001b[39m\u001b[33mYou will need to run wkhtmltopdf within a \u001b[39m\u001b[33m\"\u001b[39m\u001b[33mvirtual\u001b[39m\u001b[33m\"\u001b[39m\u001b[33m X server.\u001b[39m\u001b[38;5;130;01m\\n\u001b[39;00m\u001b[33m'\u001b[39m\n\u001b[32m    151\u001b[39m                   \u001b[33m'\u001b[39m\u001b[33mGo to the link below for more information\u001b[39m\u001b[38;5;130;01m\\n\u001b[39;00m\u001b[33m'\u001b[39m\n\u001b[32m    152\u001b[39m                   \u001b[33m'\u001b[39m\u001b[33mhttps://github.com/JazzCore/python-pdfkit/wiki/Using-wkhtmltopdf-without-X-server\u001b[39m\u001b[33m'\u001b[39m % stderr)\n\u001b[32m    154\u001b[39m \u001b[38;5;28;01mif\u001b[39;00m \u001b[33m'\u001b[39m\u001b[33mError\u001b[39m\u001b[33m'\u001b[39m \u001b[38;5;129;01min\u001b[39;00m stderr:\n\u001b[32m--> \u001b[39m\u001b[32m155\u001b[39m     \u001b[38;5;28;01mraise\u001b[39;00m \u001b[38;5;167;01mIOError\u001b[39;00m(\u001b[33m'\u001b[39m\u001b[33mwkhtmltopdf reported an error:\u001b[39m\u001b[38;5;130;01m\\n\u001b[39;00m\u001b[33m'\u001b[39m + stderr)\n\u001b[32m    157\u001b[39m error_msg = stderr \u001b[38;5;129;01mor\u001b[39;00m \u001b[33m'\u001b[39m\u001b[33mUnknown Error\u001b[39m\u001b[33m'\u001b[39m\n\u001b[32m    158\u001b[39m \u001b[38;5;28;01mraise\u001b[39;00m \u001b[38;5;167;01mIOError\u001b[39;00m(\u001b[33m\"\u001b[39m\u001b[33mwkhtmltopdf exited with non-zero code \u001b[39m\u001b[38;5;132;01m{0}\u001b[39;00m\u001b[33m. error:\u001b[39m\u001b[38;5;130;01m\\n\u001b[39;00m\u001b[38;5;132;01m{1}\u001b[39;00m\u001b[33m\"\u001b[39m.format(exit_code, error_msg))\n",
      "\u001b[31mOSError\u001b[39m: wkhtmltopdf reported an error:\nExit with code 1 due to network error: ProtocolUnknownError\r\n"
     ]
    }
   ],
   "source": [
    "# downloading reports, renaming and saving as /data/raw/<CompanyName_Year>.pdf\n",
    "\n",
    "config = pdfkit.configuration(wkhtmltopdf=wkhtmltopdf_path)\n",
    "\n",
    "\n",
    "# pdfkit.from_url(url=url, output_path='sample.pdf', configuration=config)\n",
    "\n",
    "# maybe try a simple for loop lmao\n",
    "# add a sleep before downloading next pdf\n",
    "\n",
    "def download_pdfs(row):\n",
    "    company = row['Company']\n",
    "    url: str, filing_date: str\n",
    "    pdfkit.from_url(url=url, output_path=fr'..\\data\\raw\\{company}_{filing_date.split('-')[0]}.pdf', configuration=config)\n",
    "\n",
    "\n",
    "report_links.loc[:5, ['Company', 'Lexample Url', 'Filing Date']].apply(download_pdfs()\n",
    "                                                                      axis=1)"
   ]
  },
  {
   "cell_type": "code",
   "execution_count": null,
   "id": "e1642adb",
   "metadata": {},
   "outputs": [
    {
     "data": {
      "text/plain": [
       "True"
      ]
     },
     "execution_count": 126,
     "metadata": {},
     "output_type": "execute_result"
    }
   ],
   "source": [
    "FOR \n",
    "\n"
   ]
  },
  {
   "cell_type": "code",
   "execution_count": null,
   "id": "5d19d8d8",
   "metadata": {},
   "outputs": [],
   "source": []
  },
  {
   "cell_type": "markdown",
   "id": "653dd403",
   "metadata": {},
   "source": [
    "## Preprocessing\n",
    "\n",
    "- Extract text & segment into sentences\n",
    "\n",
    "- Manually label ~500 sentences into ESG categories (small gold standard)"
   ]
  },
  {
   "cell_type": "code",
   "execution_count": null,
   "id": "77f320f3",
   "metadata": {},
   "outputs": [],
   "source": [
    "def extract_all_text(pdf_path, skip_pages=0):\n",
    "    \"\"\"Extracts all text from a PDF document.\"\"\"\n",
    "    doc = fitz.open(pdf_path)\n",
    "    full_text = \"\"\n",
    "    for page_num in range(skip_pages, doc.page_count):\n",
    "        page = doc.load_page(page_num)\n",
    "        full_text += page.get_text(\"text\") \n",
    "    doc.close()\n",
    "    return full_text"
   ]
  },
  {
   "cell_type": "code",
   "execution_count": null,
   "id": "320d7562",
   "metadata": {},
   "outputs": [],
   "source": [
    "pdf_path = r\"..\\data\\Exhibit-PDF-08-10-2025.pdf\"\n",
    "\n",
    "full_text = extract_all_text(pdf_path, skip_pages=5)"
   ]
  },
  {
   "cell_type": "code",
   "execution_count": 21,
   "id": "bd4c1471",
   "metadata": {},
   "outputs": [
    {
     "data": {
      "text/plain": [
       "'99.1 - IsoEnergy Ltd.\\nEX-99.1 2 ex991.htm NEWS RELEASE DATED JULY 15, 2025\\nExhibit 99.1\\n \\n \\n \\n \\nIsoEnergy Releases Inaugural Sustainability Report, Underscoring Commitment to Responsible Growth\\nTORONTO, July 15, 2025 /CNW/ - IsoEnergy Ltd. (\"IsoEnergy\" or the \"Company\") (NYSE American: ISOU) (TSX: ISO) is pleased to announce the release of its inaugural Sustainability\\nReport (the \"Report\") for the year ended December 31, 2024. The Report highlights IsoEnergy\\'s progress in advancing its global uranium portfolio, with a focus on environmental stewardship,\\nIndigenous partnerships, and responsible governance.\\nThe Report marks a milestone in the Company\\'s evolution, following its strategic acquisition of Consolidated Uranium Inc. in December 2023, establishing a diversified asset base across tier-one\\nuranium jurisdictions. As IsoEnergy advances toward potential near-term production, sustainability remains central to its growth strategy. The full Report is available at\\nhttps://www.isoenergy.ca/sustainability/.\\nHighlights\\n•\\nEnvironmental achievements include reducing impact and advancing operational readiness.\\n•\\nAchieved zero significant environmental incidents across all projects in 2024.\\n•\\nInitiated baseline environmental studies at Larocque East to guide future permitting and project design with a view to minimizing ecological impacts.\\n•\\nReclaimed all active exploration sites, and enhanced waste management practices with the goal of reducing material waste.\\n•\\nImproved water efficiency and reduced emissions at Tony M Mine through targeted infrastructure upgrades.\\n•\\nPartnered with communities, establishing investments in people.\\n•\\nMaintained strong Indigenous representation in the workforce with 63% at Matoush and 36% at Larocque East.\\n•\\nSupported community well-being initiatives, including the Northlands College Scholarship Foundation and JZ Memorial Fund.\\n•\\nImplemented Company-wide policies on Health and Safety, Respectful Workplace, and Diversity.\\n•\\nStandardized incident investigation reporting across all exploration projects.\\n•\\nStrengthened governance with new policies for sustainable growth.\\n•\\nAdopted new oversight measures, including Corporate Governance Guidelines and Majority Voting Policy.\\n•\\nAchieved 100% Code of Ethics compliance, reinforcing a culture of integrity.\\n•\\nContinued strong Board oversight on risk management, cybersecurity, and sustainability.\\nPhilip Williams, CEO and Director of IsoEnergy, commented, \"This inaugural Report underscores our commitment to responsible resource development and highlights the concrete steps we\\nhave taken to reduce our environmental footprint, invest in local communities and businesses, and strengthen partnerships with Indigenous Nations. As we continue advancing our projects,\\nsustainability remains central to how we plan to operate and grow. Looking ahead to 2025, our focus is on formalizing IsoEnergy\\'s sustainability approach by developing a robust ESG framework\\nto guide, manage, and track performance on material ESG issues.\"\\nThe Report sets a strong foundation for IsoEnergy\\'s sustainability journey and outlines the Company\\'s plan to formalize its ESG strategy, including plans to conduct a materiality assessment and\\ndevelop a Company-wide sustainability policy in 2025.\\nAbout IsoEnergy Ltd.\\nIsoEnergy (NYSE American: ISOU; TSX: ISO) is a leading, globally diversified uranium company with substantial current and historical mineral resources in top uranium mining jurisdictions of\\nCanada, the U.S. and Australia at varying stages of development, providing near-, medium- and long-term leverage to rising uranium prices. IsoEnergy is currently advancing its Larocque East\\nproject in Canada\\'s Athabasca basin, which is home to the Hurricane deposit, boasting the world\\'s highest-grade indicated uranium mineral resource. IsoEnergy also holds a portfolio of permitted\\npast-producing, conventional uranium and vanadium mines in Utah with a toll milling arrangement in place with Energy Fuels. These mines are currently on standby, ready for rapid restart as\\nmarket conditions permit, positioning IsoEnergy as a near-term uranium producer.\\nX: @IsoEnergyLtd\\nwww.isoenergy.ca\\nCautionary Statement Regarding Forward-Looking Information\\nThis press release contains \"forward-looking information\" within the meaning of applicable Canadian securities legislation and \"forward-looking statements\" within the meaning of U.S. securities\\nlaws (collectively, \"forward-looking statements\"). Generally, forward-looking statements can be identified by the use of forward-looking terminology such as \"plans\", \"expects\" or \"does not\\nexpect\", \"is expected\", \"budget\", \"scheduled\", \"estimates\", \"forecasts\", \"intends\", \"anticipates\" or \"does not anticipate\", or \"believes\", or variations of such words and phrases or state that certain\\nactions, events or results \"may\", \"could\", \"would\", \"might\" or \"will be taken\", \"occur\" or \"be achieved\". These forward-looking statements may relate to the Company\\'s growth and development\\nstrategy; IsoEnergy\\'s sustainability approach; and any other activities, events or developments that the Company expects or anticipates will or may occur in the future.\\nForward-looking statements are necessarily based upon a number of assumptions that, while considered reasonable by management at the time, are inherently subject to business, market and\\neconomic risks, uncertainties and contingencies that may cause actual results, performance or achievements to be materially different from those expressed or implied by forward-looking\\nstatements. Such assumptions include, but are not limited to, assumptions that the results of planned ESG activities are as anticipated; the price of uranium; that general business and economic\\nconditions will not change in a materially adverse manner; that financing will be available if and when needed and on reasonable terms; and that third party contractors, equipment and supplies\\nand governmental and other approvals required to conduct the Company\\'s planned activities will be available on reasonable terms and in a timely manner. Although IsoEnergy has attempted to\\nidentify important factors that could cause actual results to differ materially from those contained in forward-looking statements, there may be other factors that cause results not to be as\\nanticipated, estimated or intended. There can be no assurance that such statements will prove to be accurate, as actual results and future events could differ materially from those anticipated in\\nsuch statements. Accordingly, readers should not place undue reliance on forward-looking statements.\\nSuch statements represent the current views of IsoEnergy with respect to future events and are necessarily based upon a number of assumptions and estimates that, while considered\\nreasonable by IsoEnergy, are inherently subject to significant business, economic, competitive, political and social risks, contingencies and uncertainties. Risks and uncertainties include, but are\\nnot limited to the following: negative operating cash flow and dependence on third party financing; uncertainty of additional financing; no known mineral reserves; aboriginal title and consultation\\nissues; reliance on key management and other personnel; actual results of exploration activities being different than anticipated; changes in exploration programs based upon results; availability\\nof third party contractors; availability of equipment and supplies; failure of equipment to operate as anticipated; accidents, effects of weather and other natural phenomena; other environmental\\nrisks; changes in laws and regulations; regulatory determinations and delays; stock market conditions generally; demand, supply and pricing for uranium; other risks associated with the mineral\\nexploration industry; and general economic and political conditions in Canada, the United States and other jurisdictions where the Company conducts business. Other factors which could\\nmaterially affect such forward-looking statements are described in the risk factors in IsoEnergy\\'s most recent annual management\\'s discussion and analysis and annual information form and\\nIsoEnergy\\'s other filings with securities regulators which are available under the Company\\'s profile on SEDAR+ at www.sedarplus.ca and on EDGAR at www.sec.gov. IsoEnergy does not\\nundertake to update any forward-looking statements, except in accordance with applicable securities laws.\\nView original content to download multimedia:https://www.prnewswire.com/news-releases/isoenergy-releases-inaugural-sustainability-report-underscoring-commitment-to-responsible-growth-\\n302505149.html\\nSOURCE IsoEnergy Ltd.\\n \\nView original content to download multimedia: http://www.newswire.ca/en/releases/archive/July2025/15/c9609.html\\n%CIK: 0001997377\\nFor further information: For further information, please contact: Philip Williams, CEO and Director, info@isoenergy.ca, 1-833-572-2333\\nCO: IsoEnergy Ltd.\\n6\\nCNW 07:00e 15-JUL-25\\n7\\n99.1 - Yandex N.V.\\nEX-99.1 2 tm2520527d1_ex99-1.htm EXHIBIT 99.1\\n \\nExhibit 99.1\\n \\nNebius Group 2024 Sustainability Report highlights importance of sustainability to long-term value creation in AI infrastructure\\n \\n·\\nLeading AI infra builder’s 2024 Sustainability Report shows how sustainability drives competitive advantage, with approximately 20% lower total cost of ownership (TCO) and market-leading efficiency metrics\\n \\n·\\nRegular publication of detailed data aligned to comprehensive reporting standards reflects Nebius’s transparent approach to sustainability and commitment to accountability.\\n \\nAmsterdam, July 10 2025 — Nebius Group N.V. (NASDAQ: NBIS), a leading AI infrastructure company, today published its 2024 Sustainability Report, reinforcing its position as a sector leader in transparency around sustainability issues\\nand underscoring how sustainability delivers wins for Nebius, our customers, and society more broadly.\\n \\nPrepared referencing European Sustainability Reporting Standards (ESRS), the report shows how Nebius embrac'"
      ]
     },
     "execution_count": 21,
     "metadata": {},
     "output_type": "execute_result"
    }
   ],
   "source": [
    "full_text[0:10000]"
   ]
  },
  {
   "cell_type": "code",
   "execution_count": 37,
   "id": "0676048e",
   "metadata": {},
   "outputs": [],
   "source": [
    "# try:\n",
    "#     nltk.data.find('tokenizers/punkt')\n",
    "#     nltk.data.find('tokenizers/punkt_tab')\n",
    "# except LookupError:\n",
    "#     nltk.download('punkt')\n",
    "#     nltk.download('punkt_tab')\n",
    "\n",
    "# when using a venv, use:\n",
    "# python -m nltk.downloader <tokenizer>"
   ]
  },
  {
   "cell_type": "code",
   "execution_count": 32,
   "id": "4647d472",
   "metadata": {},
   "outputs": [],
   "source": [
    "sentences = sent_tokenize(full_text)"
   ]
  },
  {
   "cell_type": "code",
   "execution_count": 42,
   "id": "3881d2cf",
   "metadata": {},
   "outputs": [
    {
     "data": {
      "text/html": [
       "<div>\n",
       "<style scoped>\n",
       "    .dataframe tbody tr th:only-of-type {\n",
       "        vertical-align: middle;\n",
       "    }\n",
       "\n",
       "    .dataframe tbody tr th {\n",
       "        vertical-align: top;\n",
       "    }\n",
       "\n",
       "    .dataframe thead th {\n",
       "        text-align: right;\n",
       "    }\n",
       "</style>\n",
       "<table border=\"1\" class=\"dataframe\">\n",
       "  <thead>\n",
       "    <tr style=\"text-align: right;\">\n",
       "      <th></th>\n",
       "      <th>sentences</th>\n",
       "    </tr>\n",
       "  </thead>\n",
       "  <tbody>\n",
       "    <tr>\n",
       "      <th>0</th>\n",
       "      <td>99.1 - IsoEnergy Ltd.\\nEX-99.1 2 ex991.htm NEW...</td>\n",
       "    </tr>\n",
       "    <tr>\n",
       "      <th>1</th>\n",
       "      <td>The Report highlights IsoEnergy's progress in ...</td>\n",
       "    </tr>\n",
       "    <tr>\n",
       "      <th>2</th>\n",
       "      <td>The Report marks a milestone in the Company's ...</td>\n",
       "    </tr>\n",
       "    <tr>\n",
       "      <th>3</th>\n",
       "      <td>As IsoEnergy advances toward potential near-te...</td>\n",
       "    </tr>\n",
       "    <tr>\n",
       "      <th>4</th>\n",
       "      <td>The full Report is available at\\nhttps://www.i...</td>\n",
       "    </tr>\n",
       "  </tbody>\n",
       "</table>\n",
       "</div>"
      ],
      "text/plain": [
       "                                           sentences\n",
       "0  99.1 - IsoEnergy Ltd.\\nEX-99.1 2 ex991.htm NEW...\n",
       "1  The Report highlights IsoEnergy's progress in ...\n",
       "2  The Report marks a milestone in the Company's ...\n",
       "3  As IsoEnergy advances toward potential near-te...\n",
       "4  The full Report is available at\\nhttps://www.i..."
      ]
     },
     "execution_count": 42,
     "metadata": {},
     "output_type": "execute_result"
    }
   ],
   "source": [
    "df = pd.DataFrame(sentences, columns=['sentences'])\n",
    "\n",
    "df.head()"
   ]
  },
  {
   "cell_type": "markdown",
   "id": "ef9822b0",
   "metadata": {},
   "source": [
    "There are escape characters like \\n in sentences, so we need to remove them."
   ]
  },
  {
   "cell_type": "code",
   "execution_count": 55,
   "id": "fd279a91",
   "metadata": {},
   "outputs": [
    {
     "data": {
      "text/html": [
       "<div>\n",
       "<style scoped>\n",
       "    .dataframe tbody tr th:only-of-type {\n",
       "        vertical-align: middle;\n",
       "    }\n",
       "\n",
       "    .dataframe tbody tr th {\n",
       "        vertical-align: top;\n",
       "    }\n",
       "\n",
       "    .dataframe thead th {\n",
       "        text-align: right;\n",
       "    }\n",
       "</style>\n",
       "<table border=\"1\" class=\"dataframe\">\n",
       "  <thead>\n",
       "    <tr style=\"text-align: right;\">\n",
       "      <th></th>\n",
       "      <th>sentences</th>\n",
       "    </tr>\n",
       "  </thead>\n",
       "  <tbody>\n",
       "    <tr>\n",
       "      <th>0</th>\n",
       "      <td>99.1 - IsoEnergy Ltd. EX-99.1 2 ex991.htm NEWS...</td>\n",
       "    </tr>\n",
       "    <tr>\n",
       "      <th>1</th>\n",
       "      <td>The Report highlights IsoEnergy's progress in ...</td>\n",
       "    </tr>\n",
       "    <tr>\n",
       "      <th>2</th>\n",
       "      <td>The Report marks a milestone in the Company's ...</td>\n",
       "    </tr>\n",
       "    <tr>\n",
       "      <th>3</th>\n",
       "      <td>As IsoEnergy advances toward potential near-te...</td>\n",
       "    </tr>\n",
       "    <tr>\n",
       "      <th>4</th>\n",
       "      <td>The full Report is available at https://www.is...</td>\n",
       "    </tr>\n",
       "  </tbody>\n",
       "</table>\n",
       "</div>"
      ],
      "text/plain": [
       "                                           sentences\n",
       "0  99.1 - IsoEnergy Ltd. EX-99.1 2 ex991.htm NEWS...\n",
       "1  The Report highlights IsoEnergy's progress in ...\n",
       "2  The Report marks a milestone in the Company's ...\n",
       "3  As IsoEnergy advances toward potential near-te...\n",
       "4  The full Report is available at https://www.is..."
      ]
     },
     "execution_count": 55,
     "metadata": {},
     "output_type": "execute_result"
    }
   ],
   "source": [
    "df.loc[:, 'sentences'] = df['sentences'].replace('\\n', ' ', regex=True)\n",
    "df.head()"
   ]
  },
  {
   "cell_type": "code",
   "execution_count": 100,
   "id": "bf8f06b7",
   "metadata": {},
   "outputs": [
    {
     "name": "stderr",
     "output_type": "stream",
     "text": [
      "c:\\Users\\krish\\Work\\projects\\esg-disclosure-classifier\\venv\\Lib\\site-packages\\xlsxwriter\\worksheet.py:1249: UserWarning: Ignoring URL 'https://www.mckinsey.com/tr/our-insights/stakeholder-capitalism-report Customers Employees Investors and Shareholders Merchants Public Institutions Banks Cooperatives Media Universities Non-Governmental Organizations Suppliers Retail Suppliers GRI 2-6, GRI 2-25, GRI 2-26, GRI 2-29 707 30 Türkiye’s Hepsiburada Environmentally Responsible Operations Through Innovative Solutions Start Here Equal and Inclusive Corporate Culture Starts Here Social Good Starts Here Ethical and Transparent Governance Starts Here Annexes 2022 Sustainability Report Our Sustainability Approach KEY STAKEHOLDER GROUP COMMUNICATION CHANNEL COMMUNICATION FREQUENCY Employees Slack, Mail, Phone, Physical/Online meetings, HepsiOne meetings, Motivation meetings, HepsiFun activities, Employee Loyalty survey Bence system Continuous Investors and Shareholders Press Releases, Financial Reports, Presentations, Webcast, Annual Reports, Material Disclosures, Website, Investor Meetings Quarterly, Annual, Continuous Customers Call center, Whatsapp, CRM, Market research, UX research, CX research Continuous Suppliers Mail, Phone, Whatsapp, Online and face-to-face meetings Continuous Merchants Ticket, Call Center incoming calls, Merchant calls, Meetings - face-to-face communications, Projects, Merchant Announcements Continuous Retail Suppliers E-Mail, Telephone, Face-to-face events, Online meetings, Internal messaging, Satisfaction survey, Training meetings, Projects Continuous Public Institutions Face-to-face visits, Email, Telephone, Online interviews Periodic Banks Press Releases, Financial Reports, Website, Meetings Periodic Non-Governmental Organizations Internal messaging, Meetings, Media Events, Projects, Satisfaction Survey Continuous Cooperatives and Women Entrepreneurship Meetings, Internal messaging, Website, Projects, Media Events, Face to face visit Continuous Universities E-mail, Whatsapp, Phone calls, Face-to-face and Online Physical Activities Periodic Media Press conferences, Media events, Financial reports, Announcements and disclosures, Website Periodic GRI 2-6, GRI 2-25, GRI 2-26, GRI 2-29 708 31 Türkiye’s Hepsiburada Our Sustainability Approach Equal and Inclusive Corporate Culture Starts Here Social Good Starts Here Ethical and Transparent Governance Starts Here Annexes 2022 Sustainability Report Environmentally Responsible Operations Through Innovative Solutions Start Here Environmentally Responsible Operations Through Innovative Solutions Start Here!' with link or location/anchor > 2079 characters since it exceeds Excel's limit for URLs.\n",
      "  warn(\n"
     ]
    }
   ],
   "source": [
    "df.to_excel(r\"..\\data\\processed_sentences.xlsx\", index=False, engine='xlsxwriter')"
   ]
  }
 ],
 "metadata": {
  "kernelspec": {
   "display_name": "venv",
   "language": "python",
   "name": "python3"
  },
  "language_info": {
   "codemirror_mode": {
    "name": "ipython",
    "version": 3
   },
   "file_extension": ".py",
   "mimetype": "text/x-python",
   "name": "python",
   "nbconvert_exporter": "python",
   "pygments_lexer": "ipython3",
   "version": "3.13.5"
  }
 },
 "nbformat": 4,
 "nbformat_minor": 5
}
