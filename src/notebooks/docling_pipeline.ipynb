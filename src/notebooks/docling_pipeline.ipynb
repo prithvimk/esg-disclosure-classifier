{
 "cells": [
  {
   "cell_type": "code",
   "execution_count": 1,
   "id": "7888b6cb",
   "metadata": {},
   "outputs": [],
   "source": [
    "from docling.document_converter import DocumentConverter\n",
    "from docling.datamodel.pipeline_options import PdfPipelineOptions\n",
    "from docling.chunking import HybridChunker"
   ]
  },
  {
   "cell_type": "markdown",
   "id": "8a6f585a",
   "metadata": {},
   "source": [
    "Knowledge Base\n",
    "\n",
    "- Textual content\n",
    "- Document Outlines\n",
    "- Table content"
   ]
  },
  {
   "cell_type": "code",
   "execution_count": 2,
   "id": "0cfba002",
   "metadata": {},
   "outputs": [
    {
     "name": "stdout",
     "output_type": "stream",
     "text": [
      "CUDA GPU is enabled: NVIDIA GeForce GTX 1050 Ti\n"
     ]
    }
   ],
   "source": [
    "import torch\n",
    "\n",
    "# Check if GPU or MPS is available\n",
    "if torch.cuda.is_available():\n",
    "    device = torch.device(\"cuda\")\n",
    "    print(f\"CUDA GPU is enabled: {torch.cuda.get_device_name(0)}\")\n",
    "elif torch.backends.mps.is_available():\n",
    "    device = torch.device(\"mps\")\n",
    "    print(\"MPS GPU is enabled.\")\n",
    "else:\n",
    "    raise OSError(\n",
    "        \"No GPU or MPS device found. Please check your environment and ensure GPU or MPS support is configured.\"\n",
    "    )"
   ]
  },
  {
   "cell_type": "code",
   "execution_count": 3,
   "id": "bd34174d",
   "metadata": {},
   "outputs": [
    {
     "data": {
      "text/plain": [
       "EmbedResponse(model='mxbai-embed-large', created_at=None, done=None, done_reason=None, total_duration=25370936300, load_duration=25103127000, prompt_eval_count=10, prompt_eval_duration=None, eval_count=None, eval_duration=None, embeddings=[[0.03286565, 0.06610957, 0.0360856, 0.045056015, -0.007489444, 0.036489364, -0.025019486, 0.050013043, 0.036570687, -0.013854629, 0.035655916, 0.019339444, -0.035473242, 0.007771385, -0.029357782, 0.039437715, 0.012204067, -0.009387629, -0.008070199, -0.016061394, -0.046638295, 0.042092364, -0.046672374, 0.009753022, 0.068648085, 0.056318358, 0.06935988, 0.008108562, 0.05684624, 0.0035377643, 0.00082494074, 0.009582719, 0.105082005, -0.06520899, -0.012078525, -0.012814953, 0.017257271, 0.00032923312, -0.010861294, -0.084993, 0.05509558, -0.0018817299, 0.028186284, 0.00052878936, -0.032144602, -0.023194235, -0.0026011458, -0.030285371, 0.0053186137, -0.057683147, -0.021915201, -0.020089097, 0.0036510772, -0.014111891, -0.041652936, -0.03654601, 0.0042222687, -0.01636417, -0.019658593, -0.0014698806, 0.035757508, 0.007936994, 0.032049127, -0.00812752, -0.01183875, 0.01938661, -0.030169377, 0.0068747527, 0.023627166, 0.015223913, 0.05113595, 0.04576806, -0.039955545, -0.016170684, -0.07329038, -0.026776044, 0.008674605, -0.0051481156, 0.0002443549, 0.016569141, 0.047143325, 0.014940368, 0.023400579, 0.0102567915, -0.012970756, 0.0004079895, 0.026481127, 0.052984178, -0.006463793, 0.0045465757, -0.049673986, 0.035623975, 0.012417474, 0.023567071, -0.004337928, -0.0012321711, 0.006654395, 0.018333199, -0.0032968118, -0.020214882, -0.024355404, -0.02612716, 0.011422027, 0.030046951, -0.038724143, 0.022699114, -0.020763982, -0.01168456, 0.019279465, -0.017549673, 0.008893376, -0.014038176, -0.025066234, -0.03500497, -0.014847396, 0.0189984, -0.043951605, 0.059803184, -0.103415385, -0.009942948, -0.035447624, 0.01742927, -0.0015550931, 0.029040031, -0.044980366, -0.046540793, -0.03449763, 0.042190813, -0.038900644, 0.041005213, -0.011299727, -0.038554344, -0.0023833688, -0.00142572, -0.0005093535, -0.020661741, -0.010949549, 0.033134155, 0.018388594, -0.032093193, 0.03857856, 0.062192045, -0.007765764, 0.067096576, -0.01596916, 0.0076367906, 0.016474785, -0.021654319, -0.028614486, 0.02292344, 0.019307323, -0.0011842943, 0.023068987, 0.047865488, -0.01873057, -0.024467895, 0.0040900293, 0.014465161, 0.005989887, 0.0023506458, -0.013981095, 0.0062858905, -0.045560278, 0.05866355, 0.012569768, 0.0083334865, -0.022228407, -0.049373105, 0.010551847, -0.023216859, 0.01429318, 0.0043018633, -0.01967202, 0.0067020995, 0.014430441, 0.007956505, -0.0026307472, 0.011666477, 0.0002869423, 0.0013207336, 0.012184069, 0.0415026, -0.009303276, 0.031060776, 0.0022927555, -0.011896237, -0.029242082, 0.0016836869, -0.016511476, -0.033006247, -0.05105095, 0.05237504, 0.04164047, -0.0007454444, -0.030533675, 0.027117763, -0.039474905, -0.0074398397, -0.028027406, -0.0061800946, -0.018927665, 0.040909443, -0.011423, -0.014531424, 0.0046157544, 0.018347453, 0.040598705, 0.020309139, -0.01032629, -0.043221995, 0.025578314, 0.03859605, 0.010387326, -0.030636355, -0.01575304, -0.032841634, -0.01272233, 0.034856346, -0.059231717, -0.024120517, 0.013798415, 0.038877085, 0.01592837, 0.0687768, 0.026047485, -0.02572236, 0.03288, 0.0205766, -0.02513654, -0.03506186, -0.032745782, 0.06936845, 0.027935673, -0.03293854, 0.03109515, 0.0074081477, 0.005001939, -0.008044982, 0.042224854, -0.009024431, 0.041962907, -0.025265243, 0.023397846, -0.03190225, 0.060924087, 0.0075335214, -0.008332035, -0.02893728, -0.022755956, 0.03364073, -0.019034212, 0.035602145, -0.0032998177, 0.055593874, 0.013165469, 0.012721993, 0.04623632, -0.0022109756, 0.023559608, -0.011892096, -0.05932242, -0.04517334, 0.024121262, 0.023282392, 0.021673203, -0.018303804, -0.032971937, -0.01724492, 0.0038273013, -0.04676279, -0.03881106, -0.053981733, -0.046503305, 0.0042701582, 0.02992046, -0.008558643, 0.019204658, 9.858922e-05, 0.011583652, -0.016391726, 0.0063626394, 0.028934307, -0.06462577, 0.0011071548, 0.014085068, -0.006593219, -0.005655967, 0.012675508, 0.0149839185, 0.031824466, -0.023029853, -0.010537194, -0.028601948, -0.017014906, 0.019330712, -0.009669667, 0.028712234, -0.021786347, 0.03823292, -0.055457227, -0.0021857803, -0.011715157, -0.0042184405, -0.021179857, -0.04025884, 0.01772955, -0.009527644, -0.019981163, -0.011332924, 0.020793894, -0.012241424, 0.03988777, -0.0044877357, 0.021030985, -0.044218622, 0.01335787, -0.0031173804, 0.041688018, 0.007489533, -0.053520277, -0.002066568, -0.019201426, 0.066110484, 0.031636942, 0.049408246, 0.049188577, -0.014360477, -0.055581134, 0.002823537, 0.041619413, 8.992918e-05, -0.065696344, -0.021818956, -0.01426305, 0.0311973, 0.06410911, 0.008402985, -0.046952974, -0.049982175, 0.054745853, 0.016394109, -0.037063405, 0.046838403, 0.042957682, -0.016852116, -0.0025443784, 0.0069226488, -0.029553093, -0.0068016206, 0.07291919, -0.039125413, 0.027799372, 0.015852893, 0.032006748, 0.02370135, -0.008372552, -0.018547677, -0.010025435, -0.026932195, 0.016990526, -0.036225274, 0.018662833, 0.027424129, 0.012410201, -0.0030373167, -0.0137848975, -0.0054065567, -0.034806393, -0.009282993, -0.041854408, 0.0039595165, 0.0066731903, 0.026327835, -0.017815895, -0.042104524, -0.011779484, -0.014831634, -0.029292641, 0.036485665, -0.04008433, 0.0030211436, -0.026730334, 0.010445765, 0.007138254, 0.019340513, -0.06105928, 0.0006976228, 0.07107418, 0.0032185966, 0.015906405, 0.012083331, -0.02293652, 0.015302713, 0.013437538, -0.030230094, -0.024750056, 0.014125601, 0.030012328, -0.025654277, -0.03598125, -0.005933127, 0.00025485104, 0.014510033, -0.019217893, -0.012377746, -0.024926422, 0.022761317, 0.0046936823, 0.016275536, -0.047394246, 0.042264994, 0.007517257, -0.04014219, 0.025139539, 0.019375028, 0.030892942, -0.040208396, -0.011120451, -0.011587898, 0.012444809, -0.024393942, -0.05767463, -0.0055903383, 0.040030368, 0.033650707, -0.055592045, -0.0002605823, -0.03662878, -0.016622126, 0.025339296, 0.052549075, -0.026180286, -0.035555165, -0.015453287, 0.039750885, 0.00832817, 0.016049054, 0.010304975, -0.027207425, 0.020868829, 0.02420031, 0.022428077, 0.033186734, -0.0015191311, 0.02826637, -0.008891432, 0.026014853, 0.0066631623, 0.003916406, -0.02648443, 0.021798763, -0.049371716, -0.026911972, -0.022883628, -0.063785575, -0.0022763982, -0.020941839, 0.007488769, -0.021098854, -0.053697616, -0.00020523134, 0.018115303, 0.045187917, -0.007417647, 0.007897126, 0.00905075, 0.01703955, -0.008811282, 0.061302684, 0.03479064, 0.025416926, 0.0028495472, 0.03027691, -0.04485872, 0.004800482, -0.04400119, 0.010934615, 0.016422477, -0.0035457464, 0.002869712, -0.047928367, -0.021220382, -0.008083786, 0.0037914575, 0.032767713, -0.009098407, -0.031007979, 0.025314929, 0.01253516, 0.016550606, -0.0053187134, 0.025952023, 0.037105042, -0.014603641, 0.0352424, -0.0067689293, -0.03530336, -0.029019894, 0.078908786, -0.013121404, 0.04968992, -0.022650536, 0.023555966, 0.051201746, 0.0150381075, 0.010576891, -0.023830272, -0.013339191, -0.059489343, 0.019861098, 0.016832776, -0.0007880195, -0.002489067, -0.03325877, -0.013834882, 0.0048627076, 0.061920978, -0.04128327, -0.023079459, 0.04563736, 0.016555417, -0.06444121, -0.03941882, 0.052525394, -0.024644876, -0.011389354, 0.034992676, 0.026972659, -0.015110144, -0.080272965, -0.06122055, -0.009183157, 0.017700866, -0.008875325, 0.008076129, 0.015141092, -0.0016454041, 0.021883246, -0.02812602, -0.041284904, -0.019543694, -0.0036967117, 0.042394094, -0.057277076, -0.019037887, -0.004423171, 0.035272114, 0.017149905, 0.012831747, -0.020857707, 0.041316953, 0.03617743, 0.022381239, -0.014129523, -0.027423143, -0.011997662, -0.033953916, 0.043330107, 0.025273845, 0.043131445, -0.0117318975, 0.017982496, 0.012946497, -0.032560702, 3.9867384e-05, -0.016200231, -0.026866658, -0.03095562, 0.029062448, 0.0029698876, -0.019972231, 0.007467487, 0.037658364, 0.05761435, 0.040893897, 0.00044496235, -0.060714938, 0.009433165, -0.053766612, 0.0680334, -0.022755075, 0.021873688, -0.016058618, 0.011636333, 0.069520384, 0.022089362, 0.010579178, 0.06773924, -0.050201897, -0.06522907, -0.032598365, -0.008563491, 0.03266642, -0.047883213, 0.009659081, 0.019635985, -0.049040712, -0.040120706, -0.012457181, -0.013088768, -0.027082872, 0.048704147, 0.02774852, -0.011757688, -0.003988347, 0.013352649, -0.038636845, -0.029856449, 0.0021769674, 0.056123637, -0.050902974, 0.07627219, 0.012761793, -0.039128717, 0.04063563, -0.010111544, -0.020781022, -0.018697666, 0.045747623, 0.0092729805, -0.06037015, -0.0010871298, 0.028734872, -0.017923053, -0.040617563, 0.0069353804, -0.0014008, -0.014167749, 0.031753857, -0.0032636365, -0.029937454, 0.009301388, 0.008720265, 0.010054015, 0.036215875, 0.015760072, 0.004309164, 0.0010736763, -0.034681126, -0.02020457, 0.07850115, 0.0008483717, 0.00078775693, -0.008295369, 0.041723102, -0.023613462, -0.045503978, 0.0019044264, 0.00883807, 0.029004242, 0.0047151744, 0.015522188, -0.011795182, -0.010215654, -0.009634341, 0.028327793, 0.0008555752, -0.017296238, -0.038060293, 0.034015324, 0.043323983, 0.0040620654, -0.01440668, -0.008833616, 0.018745093, -0.007908602, 0.0016421025, 0.016385313, -0.032394808, -0.041917995, -0.05746221, -0.05447045, 0.009445015, 0.0034835814, 0.0496076, -0.023929147, 0.042267617, 0.04132865, 0.013347488, -0.088787176, 0.0581732, 0.015341109, 0.011591499, -0.056165274, 0.008718698, 0.05110689, -0.0421062, 0.008756984, 0.023871286, -0.004931789, -0.0068807527, -0.023036268, 0.07794683, 0.018349353, -0.0046655345, -0.008903312, -0.040235214, -0.03148296, -0.030440966, -0.026476579, 0.026331095, 0.03127089, -0.024034727, 0.019954976, 0.0785751, 0.00611049, 0.0055207754, -0.015365558, 0.0034343165, -0.0014187017, 0.026238985, -0.025872333, 0.02532657, -0.04737177, -0.020151857, -0.051143058, 0.0058228234, -0.013730144, -0.03137334, -0.08858054, 0.03469568, 0.037169322, -0.020360554, -0.031115046, 0.031718418, 0.04193898, 0.010828346, 0.04417629, -0.014040154, 0.020055214, -0.036166698, -0.018961783, 0.016198816, -0.0051784706, -0.0074582174, 0.03472699, 0.029981814, 0.026521862, -0.027927404, -0.03195012, 0.009329149, 0.008599, -0.0104053095, 0.027238784, -0.014692383, -0.017846271, -0.043193918, -0.05583446, 0.032645945, -0.0035331012, -0.018822089, 0.025525339, 0.021360295, -0.040869538, 0.008024886, -0.003984063, -0.038067475, -0.0074080103, 0.02625867, -0.0333637, -0.017664837, -0.028588755, -0.027996974, 0.00031882324, -0.013909846, -0.026562005, -0.01999758, 0.031426907, -0.005532021, -0.0022064485, 0.020476637, -0.007717755, 0.02893155, -0.054610897, 0.010322157, -0.046437327, 0.005905481, -0.028130254, -0.0014828211, 0.025817491, -0.019390283, -0.044041533, 0.0057715885, 0.041213967, 0.02311264, -0.02326914, -0.0011471345, 0.046094567, -0.019799855, 0.0037079274, 0.051222388, -0.0055529955, -0.005813496, 0.015098474, -0.013041066, 0.013115767, -0.013053193, 0.02528678, -0.022110907, -0.0054380745, -0.0038957489, -0.0033188895, -0.01764171, 0.024426518, 0.01931979, -0.01691761, -0.025428997, -0.03445448, 0.016748607, 0.013282332, -0.025753738, -0.06682121, 0.016383603, -0.042120196, -0.003326515, -0.0007270702, 0.0069993776, -0.027451804, -0.03258924, -0.053968776, 0.021009654, 0.000672994, 0.003112558, 0.02528552, -0.030994296, 0.04712816, 0.040549476, 0.025021954, 0.0011508547, -0.025999183, -0.039244764, -0.014388652, -0.02107574, 0.014100125, -0.002009532, 0.009827665, -0.05345607, -0.02566916, 0.031104906, 0.02471109, -0.06288905, 0.005698348, -0.012964425, -0.06286185, -0.010972698, 0.00295659, -0.040458307, 0.021686621, 0.016056595, -0.00084947515, -0.04612005, 0.014890419, 0.04899972, 0.07099776, -0.017632594, -0.010128389, -0.049057487, 0.016027695, -0.031025957, 0.0051686596, 0.0024032525, -0.011306078, -0.007839909, -0.01731314, -0.02920765, -0.019674955, 0.041472077, -0.0017427517, -0.03293268, -0.018733311, 0.01291218, -0.030984515, -0.035408754, 0.009486349, 0.017902162, -0.031291954, 0.026426308, 0.04632297, -0.002918739, 0.019225404, 0.017564481, -0.043087397, -0.050211802, 0.04093208, 0.027007947, 0.07642831, -0.013458258, -0.018275866, 0.014022324, -0.043053072, -0.022216512, -0.015819501, -0.013646823, -0.023584113, 0.025122114, 0.031303532, -0.00085180346, -0.011840978, -0.018430635, -0.039079368, 0.036550224, 0.03300814, -0.04494474, -0.01128994, 0.055718727, 0.0037645302, -0.01631219, -0.03941371, 0.02902905, -0.02161622, 0.019317152, 0.015584149, 5.8329482e-05, -0.0049190763, -0.019059457, 0.027128393, 0.027978659, 0.0681656, -0.045400478, -0.07513247, 0.0052868943, 0.017352533, 0.010179729, -0.025684522, 0.055372346, 0.016439335, -0.051206853, 0.025282193, -0.013766408, 0.21713243, 0.018025823, 0.06614713, 0.0021037464, -0.022746222, 0.020734634, 0.05085194, -0.0007377122, 0.041800022, 0.023855472, -0.028922418, -0.003468129, 0.044559944, 0.013379601, -0.006499786, 0.018139657, -0.018832318, -0.0061564795, -0.0003762696, -0.029401949, -0.027899291, 0.010554033, 0.036063407, -0.0012579289, -0.03222847, 0.026941162, -0.0025745584, -0.013360075, 0.010210804, -0.014559335, 0.013347755, -0.015413911, 0.028830126, 0.00067399855, -0.01800879, 0.012208679, -0.02392823, -0.038515154, 0.009271253, -0.0012391743, 0.012629292, 0.045213576, -0.011972123, -0.06309695, -0.06465702, 0.0141785415, -0.044525553, -0.0012754357, 0.031692002, 0.0056896075, -0.0021216474, -0.041734077, 0.015870456, -0.026335638, -0.04920367, 0.035284422, 0.001633496, -0.039006148, -0.044042345, 0.012513357, -0.001420947, 0.017250199, -0.016169017, 0.026177043, -0.033912178, 0.055387765, 0.039565228, -0.011489834, -0.003385012, -0.02923356, -0.0084392335, -0.025429724, -0.044011842, -0.020337416, 0.0076107546, 0.011648853, -0.0040176255, -0.010620608, 0.024547204, 0.033579197, -0.039307777, -0.046003565, -0.046926998, 0.013896677, -0.0076913624, -0.017914405, 0.0048214905, -0.007570736, 0.02477664, 0.022243982, 0.04545124, -0.017966684, 0.021256872, 0.026007026, 0.039706904]])"
      ]
     },
     "execution_count": 3,
     "metadata": {},
     "output_type": "execute_result"
    }
   ],
   "source": [
    "import ollama\n",
    "\n",
    "test_embeddings = ollama.embed(\n",
    "  model='mxbai-embed-large',\n",
    "  input='Llamas are members of the camelid family',\n",
    ")\n",
    "\n",
    "test_embeddings"
   ]
  },
  {
   "cell_type": "code",
   "execution_count": 4,
   "id": "25baf012",
   "metadata": {},
   "outputs": [],
   "source": [
    "def embed(text_chunk: str, model_name='mxbai-embed-large'):\n",
    "    return ollama.embed(\n",
    "        model=model_name,\n",
    "        input=text_chunk\n",
    "    )['embeddings'][0]"
   ]
  },
  {
   "cell_type": "code",
   "execution_count": 37,
   "id": "470f84b4",
   "metadata": {},
   "outputs": [
    {
     "name": "stderr",
     "output_type": "stream",
     "text": [
      "Could not load the custom kernel for multi-scale deformable attention: DLL load failed while importing MultiScaleDeformableAttention: The specified module could not be found.\n",
      "Could not load the custom kernel for multi-scale deformable attention: DLL load failed while importing MultiScaleDeformableAttention: The specified module could not be found.\n",
      "Could not load the custom kernel for multi-scale deformable attention: DLL load failed while importing MultiScaleDeformableAttention: The specified module could not be found.\n",
      "Could not load the custom kernel for multi-scale deformable attention: DLL load failed while importing MultiScaleDeformableAttention: The specified module could not be found.\n",
      "Could not load the custom kernel for multi-scale deformable attention: DLL load failed while importing MultiScaleDeformableAttention: The specified module could not be found.\n",
      "Could not load the custom kernel for multi-scale deformable attention: DLL load failed while importing MultiScaleDeformableAttention: The specified module could not be found.\n"
     ]
    }
   ],
   "source": [
    "converter = DocumentConverter()\n",
    "chunker = HybridChunker()\n",
    "\n",
    "doc = converter.convert(r\"..\\..\\data\\raw\\2019_Salzgitter AG_ESG.pdf\").document\n",
    "\n",
    "texts = [chunk.text for chunk in chunker.chunk(doc)]"
   ]
  },
  {
   "cell_type": "code",
   "execution_count": 6,
   "id": "a44a0d30",
   "metadata": {},
   "outputs": [],
   "source": [
    "# x = doc.tables[0].export_to_dataframe()\n",
    "\n",
    "# x.to_csv('..\\..\\config\\llm_prompts.csv')"
   ]
  },
  {
   "cell_type": "code",
   "execution_count": 42,
   "id": "f88c1aee",
   "metadata": {},
   "outputs": [
    {
     "name": "stdout",
     "output_type": "stream",
     "text": [
      "768\n"
     ]
    }
   ],
   "source": [
    "from pymilvus import Collection, connections, DataType, FieldSchema, CollectionSchema, utility\n",
    "import os\n",
    "\n",
    "MILVUS_HOST = os.getenv('MILVUS_HOST', \"localhost\")\n",
    "MILVUS_PORT = os.getenv('MILVUS_PORT', '19530')\n",
    "COLLECTION_NAME = os.getenv('COLLECTION_NAME', 'report_chunks')\n",
    "EMBED_DIM = os.getenv('EMBED_DIM', 1024)   \n",
    "\n",
    "test_embeddings = ollama.embed(\n",
    "  model='nomic-embed-text:v1.5',\n",
    "  input='Llamas are members of the camelid family',\n",
    ")\n",
    "\n",
    "EMBED_DIM = len(test_embeddings.embeddings[0])\n",
    "print(EMBED_DIM)\n",
    "\n",
    "model_name = 'nomic-embed-text:v1.5'\n",
    "\n",
    "class MilvusManager:\n",
    "    _instance = None\n",
    "    _collection = None\n",
    "\n",
    "    def __new__(cls):\n",
    "        if cls._instance is None:\n",
    "            cls._instance = super(MilvusManager, cls).__new__(cls)\n",
    "            cls._instance._connect()\n",
    "            cls._instance._init_collection()\n",
    "        return cls._instance\n",
    "\n",
    "    def _connect(self):\n",
    "        '''Establish a single connection to Milvus.'''\n",
    "        connections.connect(\"default\", host=MILVUS_HOST, port=MILVUS_PORT)\n",
    "        print(connections.list_connections())\n",
    "\n",
    "    def _init_collection(self):\n",
    "        '''Initialize or load collection schema once.'''\n",
    "        fields = [\n",
    "            FieldSchema(name=\"id\", dtype=DataType.INT64, is_primary=True, auto_id=True),\n",
    "            FieldSchema(name=\"embedding\", dtype=DataType.FLOAT_VECTOR, dim=EMBED_DIM),\n",
    "            FieldSchema(name=\"text\", dtype=DataType.VARCHAR, max_length=2000)\n",
    "        ]\n",
    "        schema = CollectionSchema(fields, description=\"Report text chunks with embeddings\")\n",
    "\n",
    "        try:\n",
    "            self._collection = Collection(COLLECTION_NAME)\n",
    "        except Exception:\n",
    "            self._collection = Collection(name=COLLECTION_NAME, schema=schema)\n",
    "\n",
    "        # Create index if not already present\n",
    "        if not self._collection.has_index():\n",
    "            self._collection.create_index(\n",
    "                field_name=\"embedding\",\n",
    "                index_params={\"metric_type\": \"COSINE\", \"index_type\": \"IVF_FLAT\", \"params\": {\"nlist\": 128}}\n",
    "            )\n",
    "\n",
    "    def get_collection(self) -> Collection:\n",
    "        '''Return the active collection object.'''\n",
    "        return self._collection\n",
    "    \n",
    "    def semantic_search(self, query: str, top_k: int = 5):\n",
    "        '''\n",
    "        \n",
    "        '''\n",
    "        vector = embed(query, model_name)\n",
    "\n",
    "        collection = self.get_collection()\n",
    "        collection.load()\n",
    "\n",
    "        results = collection.search(\n",
    "            data=[vector],\n",
    "            anns_field=\"embedding\",\n",
    "            param={\"metric_type\": \"COSINE\", \"params\": {\"nprobe\": 10}},\n",
    "            limit=top_k,\n",
    "            output_fields=[\"text\"]\n",
    "        )\n",
    "\n",
    "        return [hit.entity.get(\"text\") for hit in results[0]]"
   ]
  },
  {
   "cell_type": "code",
   "execution_count": null,
   "id": "3f667749",
   "metadata": {},
   "outputs": [],
   "source": [
    "# # refresh collection schema\n",
    "# milvus = MilvusManager()\n",
    "\n",
    "# utility.drop_collection(milvus.get_collection().name)\n",
    "\n",
    "# milvus._instance = None\n"
   ]
  },
  {
   "cell_type": "code",
   "execution_count": 43,
   "id": "e555351e",
   "metadata": {},
   "outputs": [
    {
     "name": "stdout",
     "output_type": "stream",
     "text": [
      "[('default', <pymilvus.client.grpc_handler.GrpcHandler object at 0x000002066249AE50>)]\n"
     ]
    }
   ],
   "source": [
    "model_name = 'nomic-embed-text:v1.5'\n",
    "\n",
    "embeddings = [embed(chunk, model_name) for chunk in texts]\n",
    "\n",
    "milvus = MilvusManager()\n",
    "collection = milvus.get_collection()\n",
    "\n",
    "data = [embeddings, texts]  \n",
    "collection.insert(data)\n",
    "collection.flush()"
   ]
  },
  {
   "cell_type": "markdown",
   "id": "6d274e35",
   "metadata": {},
   "source": [
    "## Fetching search term from ESG_Metadata"
   ]
  },
  {
   "cell_type": "code",
   "execution_count": 31,
   "id": "7d4e9277",
   "metadata": {},
   "outputs": [
    {
     "name": "stderr",
     "output_type": "stream",
     "text": [
      "<>:1: SyntaxWarning: invalid escape sequence '\\.'\n",
      "<>:1: SyntaxWarning: invalid escape sequence '\\.'\n",
      "C:\\Users\\krish\\AppData\\Local\\Temp\\ipykernel_15556\\1449005704.py:1: SyntaxWarning: invalid escape sequence '\\.'\n",
      "  ESG_METADATA = \"..\\..\\config\\ESG_Metadata.xlsx\"\n"
     ]
    },
    {
     "data": {
      "text/html": [
       "<div>\n",
       "<style scoped>\n",
       "    .dataframe tbody tr th:only-of-type {\n",
       "        vertical-align: middle;\n",
       "    }\n",
       "\n",
       "    .dataframe tbody tr th {\n",
       "        vertical-align: top;\n",
       "    }\n",
       "\n",
       "    .dataframe thead th {\n",
       "        text-align: right;\n",
       "    }\n",
       "</style>\n",
       "<table border=\"1\" class=\"dataframe\">\n",
       "  <thead>\n",
       "    <tr style=\"text-align: right;\">\n",
       "      <th></th>\n",
       "      <th>Aspect</th>\n",
       "      <th>KPI</th>\n",
       "      <th>Topic</th>\n",
       "      <th>Quantity</th>\n",
       "      <th>SearchTerm</th>\n",
       "      <th>Knowledge</th>\n",
       "    </tr>\n",
       "  </thead>\n",
       "  <tbody>\n",
       "    <tr>\n",
       "      <th>0</th>\n",
       "      <td>Emissions</td>\n",
       "      <td>Direct (Scope 1) and energy indirect (Scope 2)...</td>\n",
       "      <td>[Direct (Scope 1), Energy Indirect (Scope 2)]</td>\n",
       "      <td>[Absolute Values]</td>\n",
       "      <td>Greenhouse gases, carbon dioxide, CO2, carbon ...</td>\n",
       "      <td>Greenhouse gases include carbon dioxide, metha...</td>\n",
       "    </tr>\n",
       "    <tr>\n",
       "      <th>1</th>\n",
       "      <td>Emissions</td>\n",
       "      <td>Total waste produced (in tonnes) and, where ap...</td>\n",
       "      <td>[Non-hazardous Waste, Hazardous Waste]</td>\n",
       "      <td>[Absolute Values]</td>\n",
       "      <td>Construction waste, organic waste, recyclable ...</td>\n",
       "      <td>Non-hazardous waste includes broken bricks, wa...</td>\n",
       "    </tr>\n",
       "    <tr>\n",
       "      <th>2</th>\n",
       "      <td>Emissions</td>\n",
       "      <td>The types of emissions and respective emission...</td>\n",
       "      <td>[Nitrogen oxides (NOx), Sulfur Oxides (SOx), P...</td>\n",
       "      <td>[Absolute Values]</td>\n",
       "      <td>Nitrogen oxides, NOx, sulfur oxides, SOx, sulf...</td>\n",
       "      <td>Nitrogen oxides (NOx) refer to compounds consi...</td>\n",
       "    </tr>\n",
       "    <tr>\n",
       "      <th>3</th>\n",
       "      <td>Emissions</td>\n",
       "      <td>Emissions target(s) and steps taken to achieve...</td>\n",
       "      <td>[Waste, Exhaust and Greenhouse Gases, Wastewat...</td>\n",
       "      <td>[Key Actions]</td>\n",
       "      <td>Exhaust and Greenhouse Gases: Gas emissions, g...</td>\n",
       "      <td>Waste: Waste can be categorized into three phy...</td>\n",
       "    </tr>\n",
       "  </tbody>\n",
       "</table>\n",
       "</div>"
      ],
      "text/plain": [
       "      Aspect                                                KPI  \\\n",
       "0  Emissions  Direct (Scope 1) and energy indirect (Scope 2)...   \n",
       "1  Emissions  Total waste produced (in tonnes) and, where ap...   \n",
       "2  Emissions  The types of emissions and respective emission...   \n",
       "3  Emissions  Emissions target(s) and steps taken to achieve...   \n",
       "\n",
       "                                               Topic           Quantity  \\\n",
       "0      [Direct (Scope 1), Energy Indirect (Scope 2)]  [Absolute Values]   \n",
       "1             [Non-hazardous Waste, Hazardous Waste]  [Absolute Values]   \n",
       "2  [Nitrogen oxides (NOx), Sulfur Oxides (SOx), P...  [Absolute Values]   \n",
       "3  [Waste, Exhaust and Greenhouse Gases, Wastewat...      [Key Actions]   \n",
       "\n",
       "                                          SearchTerm  \\\n",
       "0  Greenhouse gases, carbon dioxide, CO2, carbon ...   \n",
       "1  Construction waste, organic waste, recyclable ...   \n",
       "2  Nitrogen oxides, NOx, sulfur oxides, SOx, sulf...   \n",
       "3  Exhaust and Greenhouse Gases: Gas emissions, g...   \n",
       "\n",
       "                                           Knowledge  \n",
       "0  Greenhouse gases include carbon dioxide, metha...  \n",
       "1  Non-hazardous waste includes broken bricks, wa...  \n",
       "2  Nitrogen oxides (NOx) refer to compounds consi...  \n",
       "3  Waste: Waste can be categorized into three phy...  "
      ]
     },
     "execution_count": 31,
     "metadata": {},
     "output_type": "execute_result"
    }
   ],
   "source": [
    "ESG_METADATA = \"..\\..\\config\\ESG_Metadata.xlsx\"\n",
    "\n",
    "import pandas as pd\n",
    "import json\n",
    "\n",
    "esg_meta = pd.read_excel(ESG_METADATA)\n",
    "\n",
    "esg_meta.head()\n"
   ]
  },
  {
   "cell_type": "code",
   "execution_count": 44,
   "id": "1a882189",
   "metadata": {},
   "outputs": [
    {
     "data": {
      "text/plain": [
       "('Greenhouse gases, carbon dioxide, CO2, carbon dioxide equivalents',\n",
       " 'Exhaust and Greenhouse Gases: Gas emissions, greenhouse gases, carbon dioxide. Wastewater: wastewater, sewage, water consumption. Dust: dust emission. Noise: noise pollution.')"
      ]
     },
     "execution_count": 44,
     "metadata": {},
     "output_type": "execute_result"
    }
   ],
   "source": [
    "search_term_quant = esg_meta.loc[0, 'SearchTerm']\n",
    "search_term_qual = esg_meta.loc[3, 'SearchTerm']\n",
    "\n",
    "search_term_quant, search_term_qual"
   ]
  },
  {
   "cell_type": "code",
   "execution_count": 48,
   "id": "1fd14502",
   "metadata": {},
   "outputs": [],
   "source": [
    "context = milvus.semantic_search(query=search_term_quant)"
   ]
  },
  {
   "cell_type": "code",
   "execution_count": 49,
   "id": "bddc054c",
   "metadata": {},
   "outputs": [
    {
     "data": {
      "text/plain": [
       "[\"- \\uf0a7 Scope 1 = direct GHG emissions from operating plants\\n- \\uf0a7 Scope 2 = indirect, energy-related GHG emissions\\n- \\uf0a7 Scope 3 = further indirect GHG emissions from the purchase of raw materials\\nWe have therefore used the approach of the Greenhouse Gas Protocol Corporate Standard for calculating the greenhouse gas emissions in Scope 1 to Scope 3. The majority of our direct emissions are also subject to the European  Emissions  Trading  System  (ETS)  with  the  result  that  the  strict  specifications  contained  in  the Monitoring Regulation are applied in this area. The data for Scope 1 and 2 result from energy consumption figures shown in Section 'Resources Management' as well as details from ETS monitoring.\\nAs an integrated steel mill, Salzgitter Flachstahl GmbH (SZFG) occupies a special position with regard to GHG emissions, and it therefore operates its own energy savings scheme and GHG emissions reduction program. In 2018,  these  programs  achieved  a  cumulative  reduction  in  Scope  1  and  Scope  2  emissions  of  208  kt  CO2  as  a direct consequence of efficiency measures. In 2019, the figure was 211 kt CO2.\",\n",
       " \"- 1) Without reducing agents; specific emission factors based on supplier information or common available sources. Survey is oriented to Corporate Value Chain Standard (Scope 3) of the Greenhouse Gas Protocol Initiative of the World Resources Institute (WRI) and the World Business Council for Sustainable Development (WBCSD)\\n- 2) Resulting from measures of the EE project of Salzgitter Flachstahl GmbH, affecting Scope 1 and Scope 2.\\nThe reduction in Scope 2 emissions in the current reporting year by comparison with the previous year is due both to lower volumes of external power procured (see also \\uf0e4 'Environment', 'Resource Management') and to the lower average carbon dioxide emission factor in the German electricity mix.\",\n",
       " \"The greatest challenge for the Group in connection with emissions affecting the climate is the fact that CO2 emissions  stemming  from  technologies  for  the  ore-based  production  of  primary  steel  used  today  on  an international scale and in the Salzgitter Group have nearly reached their minimum possible level within the process boundaries set by laws of nature. There are therefore strict limits to future reductions in greenhouse gas emissions achievable merely through efficiency measures. SZAG therefore set up a project named SALCOS ® (Salzgitter  Low  CO2  Steelmaking)  in  2015 together  with  the  Fraunhofer  Gesellschaft.  You  can  find  further information  on  our  homepage: \\uf0e4 www.salzgitter-ag.com/en/corporate-responsibility.  The  aim  is  to  examine and  pursue  a  gradual  transformation  from  today's  carbon-based  to  hydrogen-  and  electricity-based  steel production. The measures derived from the project could be implemented in the Salzgitter steel works for the successive, stepwise conversion of production, in the sense of a fundamental technological feasibility.\",\n",
       " 'In order to achieve a significant degree of decarbonization in its primary steelmaking, SZAG wants to exploit a unique feature of iron metallurgy: Hydrogen can replace carbon in the reduction of iron ore, which leads to the formation of water (H2O) instead of carbon dioxide (CO2). The process heat required in steelmaking and further processing  can  also  be  provided  by  electrical  energy  instead  of  carbon-based  sources.  This  means  that ultimately nearly all CO2 emissions caused by steel production can be avoided.\\nWe are convinced that avoidance of CO2 formation directly in steelmaking processes (Carbon Direct Avoidance (CDA)) is  a  more  sustainable - and also energetically more sensible - way compared to Carbon Capture and Usage (CCU) or Carbon Capture and Storage (CCS). CDA hence closely reflects a generally preferred concept in any waste management: Avoidance is always preferable to processing or disposal. In addition, our approach offers  the  best  combination  of  energy  efficiency  and  CO2  reduction  potential  compared  to  other  industrial concepts.',\n",
       " 'Primary energy sources 2),  = GWh. Primary energy sources 2), 2019 = 4,128. Primary energy sources 2), 2018 = 4,411. Energy used to generate steam and electricity from waste gas and waste heat,  = GWh. Energy used to generate steam and electricity from waste gas and waste heat, 2019 = 2,049. Energy used to generate steam and electricity from waste gas and waste heat, 2018 = 1,987. Electricity consumption,  = GWh. Electricity consumption, 2019 = 2,618. Electricity consumption, 2018 = 2,663. of which external power supply,  = GWh. of which external power supply, 2019 = 1,130. of which external power supply, 2018 = 1,227. Total energy consumption,  = GWh. Total energy consumption, 2019 = 5,258. Total energy consumption, 2018 = 5,638']"
      ]
     },
     "execution_count": 49,
     "metadata": {},
     "output_type": "execute_result"
    }
   ],
   "source": [
    "context"
   ]
  },
  {
   "cell_type": "code",
   "execution_count": null,
   "id": "75e87c1a",
   "metadata": {},
   "outputs": [],
   "source": [
    "# def retrieve(search_term: tuple[str]):\n",
    "#     search_res = milvus_client.search(\n",
    "#         collection_name=collection_name,\n",
    "#         data=[embed(search_term)],\n",
    "#         limit=5,\n",
    "#         search_params={\"metric_type\": \"IP\", \"params\": {}},\n",
    "#         output_fields=[\"text\"],\n",
    "#     )\n",
    "    \n",
    "#     retrieved_lines_with_distances = [\n",
    "#         (res[\"entity\"][\"text\"], res[\"distance\"]) for res in search_res[0]\n",
    "#     ]\n",
    "#     print(json.dumps(retrieved_lines_with_distances, indent=4))\n",
    "\n",
    "#     return retrieved_lines_with_distances"
   ]
  },
  {
   "cell_type": "code",
   "execution_count": null,
   "id": "53d2bb42",
   "metadata": {},
   "outputs": [],
   "source": [
    "\n",
    "\n",
    "# context = \"\\n\".join(\n",
    "#     [line_with_distance[0] for line_with_distance in retrieve(search_term_quant)]\n",
    "# )"
   ]
  },
  {
   "cell_type": "markdown",
   "id": "2d034436",
   "metadata": {},
   "source": [
    "## Defining model for output"
   ]
  },
  {
   "cell_type": "code",
   "execution_count": 62,
   "id": "cfc7c56b",
   "metadata": {},
   "outputs": [],
   "source": [
    "from pydantic import BaseModel\n",
    "\n",
    "# {{\"Disclosure\": <0 or 1>, \"Data\": {{\"KPI\": \"{kpi}\", \"Topic\": \"{topic}\", \"Value\":\"<value>\", \"Unit\": \"<unit>\"}}}}\n",
    "\n",
    "class ESGQuantData(BaseModel):\n",
    "  kpi: str\n",
    "  topic: str\n",
    "  value: float\n",
    "  unit: str\n",
    "\n",
    "class ESGResponse(BaseModel):\n",
    "  disclosure: bool\n",
    "  data: list[ESGQuantData]"
   ]
  },
  {
   "cell_type": "code",
   "execution_count": 63,
   "id": "9fc6afca",
   "metadata": {},
   "outputs": [
    {
     "data": {
      "text/plain": [
       "'[Absolute Values]'"
      ]
     },
     "execution_count": 63,
     "metadata": {},
     "output_type": "execute_result"
    }
   ],
   "source": [
    "knowledge = esg_meta.loc[0, 'Knowledge']\n",
    "aspect = esg_meta.loc[0, 'Aspect']\n",
    "topic = esg_meta.loc[0, 'Topic']\n",
    "kpi = esg_meta.loc[0, 'KPI']\n",
    "quantity = esg_meta.loc[0, 'Quantity']\n",
    "\n",
    "quantity\n"
   ]
  },
  {
   "cell_type": "code",
   "execution_count": 64,
   "id": "37c87ca8",
   "metadata": {},
   "outputs": [
    {
     "data": {
      "text/plain": [
       "('[Direct (Scope 1), Energy Indirect (Scope 2)]',\n",
       " 'Direct (Scope 1) and energy indirect (Scope 2) greenhouse gas emissions (in tonnes) and, where appropriate, intensity (e.g. per unit of production volume, per facility).')"
      ]
     },
     "execution_count": 64,
     "metadata": {},
     "output_type": "execute_result"
    }
   ],
   "source": [
    "topic, kpi"
   ]
  },
  {
   "cell_type": "code",
   "execution_count": null,
   "id": "b872ce99",
   "metadata": {},
   "outputs": [],
   "source": [
    "# following format:\n",
    "\n",
    "# Response: {{\"Disclosure\": <0 or 1>, \"Data\": {{\"KPI\": \"{kpi}\", \"Topic\": \"{topic}\", \"Value\":\"<value>\", \"Unit\": \"<unit>\"}}}}\n",
    "\n",
    "# An example response for reference:\n",
    "# {{\"Disclosure\": 1,\n",
    "# \"Data\":{{\"KPI\": \"Total waste produced (in tonnes) and, where appropriate, intensity (e.g. per unit of production volume, per facility).\", \n",
    "# \"Topic\": \"Non-hazardous Waste\",\n",
    "# \"Value\": \"77\",\n",
    "# \"Unit\": \"Metric Tons\"}}\n",
    "# }}"
   ]
  },
  {
   "cell_type": "code",
   "execution_count": null,
   "id": "ebae9332",
   "metadata": {},
   "outputs": [],
   "source": [
    "SYSTEM_PROMPT = f\"\"\"\n",
    "You are an expert in the field of ESG (Environmental, Social, and Governance). Your task is to analyze reference content in both text and CSV table formats to answer questions, providing your responses in JSON format.\n",
    "Answer in the specified format only.\n",
    "\n",
    "\"\"\"\n",
    "USER_PROMPT_QUANTITATIVE = f\"\"\"\n",
    "Please follow these steps for your analysis:\n",
    "\n",
    "Begin by interpreting the meaning of the data disclosed in the table, summarizing it in brief terms.\n",
    "\n",
    "Then, be aware that the provided reference content may not be related to the question. Assess whether the reference content is relevant to the question. If it is, extract all the data related to the question and provide your answer. \n",
    "\n",
    "Your response should include: (1) Whether the reference content discloses data relevant to the question, indicated by a 'disclosure' field with a value of true or false. (2) If relevant data exists, provide the disclosed data in the 'data' field.\n",
    "\n",
    "The reference content is as follows: {context}\n",
    "\n",
    "Supplementary ESG expertise is as follows: {knowledge}\n",
    "\n",
    "The question is: Please answer based on the above information and do not strip away the given materials. In terms of {aspect}, extract the {topic} about {kpi}, and output {quantity}. \n",
    "\"\"\"\n"
   ]
  },
  {
   "cell_type": "code",
   "execution_count": 65,
   "id": "a2fbcfc1",
   "metadata": {},
   "outputs": [
    {
     "name": "stdout",
     "output_type": "stream",
     "text": [
      "model='deepseek-r1:7b' created_at='2025-09-28T10:33:15.4425119Z' done=True done_reason='stop' total_duration=70207562700 load_duration=6060355600 prompt_eval_count=1776 prompt_eval_duration=9973833900 eval_count=150 eval_duration=54157334100 message=Message(role='assistant', content='{ \"disclosure\": true, \"data\": [ { \"kpi\": \"Direct (Scope 1) and energy indirect (Scope 2) greenhouse gas emissions (in tonnes)\", \"topic\": \"[Direct (Scope 1), Energy Indirect (Scope 2)]\", \"value\": 208, \"unit\": \"kt CO2\" }, { \"kpi\": \"Direct (Scope 1) and energy indirect (Scope 2) greenhouse gas emissions (in tonnes)\", \"topic\": \"[Direct (Scope 1), Energy Indirect (Scope 2)]\", \"value\": 211, \"unit\": \"kt CO2\" } ] }\\n\\n  \\t \\t\\t\\t\\t\\t \\t\\t\\t\\t\\t \\t\\t\\t\\t', thinking=None, images=None, tool_name=None, tool_calls=None)\n"
     ]
    }
   ],
   "source": [
    "response = ollama.chat(\n",
    "    model=\"deepseek-r1:7b\",\n",
    "    messages=[\n",
    "        {\"role\": \"system\", \"content\": SYSTEM_PROMPT},\n",
    "        {\"role\": \"user\", \"content\": USER_PROMPT_QUANTITATIVE},\n",
    "    ],\n",
    "    format=ESGResponse.model_json_schema()\n",
    ")\n",
    "print(response)"
   ]
  },
  {
   "cell_type": "code",
   "execution_count": 67,
   "id": "5deb83d5",
   "metadata": {},
   "outputs": [
    {
     "name": "stdout",
     "output_type": "stream",
     "text": [
      "{ \"disclosure\": true, \"data\": [ { \"kpi\": \"Direct (Scope 1) and energy indirect (Scope 2) greenhouse gas emissions (in tonnes)\", \"topic\": \"[Direct (Scope 1), Energy Indirect (Scope 2)]\", \"value\": 208, \"unit\": \"kt CO2\" }, { \"kpi\": \"Direct (Scope 1) and energy indirect (Scope 2) greenhouse gas emissions (in tonnes)\", \"topic\": \"[Direct (Scope 1), Energy Indirect (Scope 2)]\", \"value\": 211, \"unit\": \"kt CO2\" } ] }\n",
      "\n",
      "  \t \t\t\t\t\t \t\t\t\t\t \t\t\t\t\n"
     ]
    }
   ],
   "source": [
    "print(response.message['content'])"
   ]
  },
  {
   "cell_type": "code",
   "execution_count": null,
   "id": "35dd51d6",
   "metadata": {},
   "outputs": [],
   "source": [
    "knowledge = esg_meta.loc[3, 'Knowledge']\n",
    "aspect = esg_meta.loc[3, 'Aspect']\n",
    "topic = esg_meta.loc[3, 'Topic']\n",
    "kpi = esg_meta.loc[3, 'KPI']\n",
    "quantity = esg_meta.loc[3, 'Quantity']\n",
    "context = \"\\n\".join(\n",
    "    [line_with_distance[0] for line_with_distance in retrieve(search_term_qual)]\n",
    ")\n",
    "\n",
    "\n",
    "\n",
    "USER_PROMPT_QUALITATIVE = f\"\"\"\n",
    "Please follow these steps for your analysis:\n",
    "\n",
    "Begin by interpreting the meaning of the data disclosed in the table, summarizing it in brief terms.\n",
    "\n",
    "Then, be aware that the provided reference content may not be related to the question. Assess whether the reference content is relevant to the question. If it is, extract all the text content related to the question and provide your answer. \n",
    "\n",
    "Your response should include: (1) Whether the reference content covers text relevant to the question, indicated by a 'disclosure' field with a value of 0 or 1. (2) If the reference content does cover relevant text, respond with the related text content in the 'data' field.\n",
    "\n",
    "The reference content is as follows: {context}\n",
    "\n",
    "Supplementary ESG expertise is as follows: {knowledge}\n",
    "\n",
    "The question is: Please answer based on the above information and do not strip away the given materials. In terms of {aspect}, extract the {topic} about {kpi}, and output {quantity}. \n",
    "\n",
    "Answer in the following format:\n",
    "Analysis: <Your Concise Analytical Process>\n",
    "\n",
    "Response: {{\"KPI\": \"{kpi}\", \"Topic\": \"{topic}\", \"Target\":\"<target>\", \"Action\": \"<action>\"}}\n",
    "\n",
    "An example response for reference:\n",
    "{{\"Disclosure: 1,\n",
    "Data:{{\"KPI\": \"Hazardous or Non-hazardous wastes reduction target(s) and steps taken to achieve them.\", \n",
    "\"Topic\": \"Hazardous or Non-hazardous Waste Management\",\n",
    "\"Target\": \"Reduce carbon emission intensity by 1% annually\",\n",
    "\"Action\": [\"Conduct a comprehensive inventory and verification of carbon emissions data, manage and reserve carbon assets\",\"Continuously strengthen the operational management and research support capacity building of CCUS (Carbon Capture, Utilization, and Storage) demonstration units\",\"Focus on carbon offsetting efforts, promote ecological forest construction, and leverage carbon reduction and sequestration through tree planting, reforestation, and mine reclamation\"]}}\n",
    "}}\n",
    "\"\"\""
   ]
  },
  {
   "cell_type": "code",
   "execution_count": null,
   "id": "a2ad0232",
   "metadata": {},
   "outputs": [],
   "source": [
    "response = ollama.chat(\n",
    "    model=\"gemma3:1b\",\n",
    "    messages=[\n",
    "        {\"role\": \"system\", \"content\": SYSTEM_PROMPT},\n",
    "        {\"role\": \"user\", \"content\": USER_PROMPT_QUALITATIVE},\n",
    "    ],\n",
    ")\n",
    "print(response)"
   ]
  },
  {
   "cell_type": "code",
   "execution_count": null,
   "id": "261eb661",
   "metadata": {},
   "outputs": [],
   "source": [
    "response.message['content']"
   ]
  }
 ],
 "metadata": {
  "kernelspec": {
   "display_name": "venv",
   "language": "python",
   "name": "python3"
  },
  "language_info": {
   "codemirror_mode": {
    "name": "ipython",
    "version": 3
   },
   "file_extension": ".py",
   "mimetype": "text/x-python",
   "name": "python",
   "nbconvert_exporter": "python",
   "pygments_lexer": "ipython3",
   "version": "3.13.5"
  }
 },
 "nbformat": 4,
 "nbformat_minor": 5
}
