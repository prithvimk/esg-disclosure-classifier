{
 "cells": [
  {
   "cell_type": "code",
   "execution_count": 9,
   "id": "ca53bff6",
   "metadata": {},
   "outputs": [],
   "source": [
    "from docling.document_converter import DocumentConverter\n",
    "from docling.datamodel.pipeline_options import PdfPipelineOptions\n"
   ]
  },
  {
   "cell_type": "code",
   "execution_count": 10,
   "id": "316c37f6",
   "metadata": {},
   "outputs": [],
   "source": [
    "\n",
    "source = r\"sample.pdf\"  # document per local path or URL\n",
    "converter = DocumentConverter()\n",
    "result = converter.convert(source)\n",
    "# print(result.document.export_to_markdown())  # output: \"## Docling Technical Report[...]\"\n"
   ]
  },
  {
   "cell_type": "code",
   "execution_count": 3,
   "id": "b853dece",
   "metadata": {},
   "outputs": [],
   "source": [
    "with open('sample.md', 'w', encoding='utf-8') as f:\n",
    "    f.write(result.document.export_to_markdown())"
   ]
  },
  {
   "cell_type": "code",
   "execution_count": 4,
   "id": "eeadd6be",
   "metadata": {},
   "outputs": [
    {
     "name": "stdout",
     "output_type": "stream",
     "text": [
      "Document structure breakdown:\n",
      "  picture: 1 elements\n",
      "  section_header: 4 elements\n",
      "  text: 15 elements\n",
      "  list_item: 14 elements\n"
     ]
    }
   ],
   "source": [
    "from collections import defaultdict\n",
    "\n",
    "element_types = defaultdict(list)\n",
    "\n",
    "# Iterate through all document elements and group them by label\n",
    "for item, _ in result.document.iterate_items():\n",
    "    element_type = item.label\n",
    "    element_types[element_type].append(item)\n",
    "\n",
    "# Display the breakdown of document structure\n",
    "print(\"Document structure breakdown:\")\n",
    "for element_type, items in element_types.items():\n",
    "    print(f\"  {element_type}: {len(items)} elements\")"
   ]
  },
  {
   "cell_type": "code",
   "execution_count": 5,
   "id": "28b6a6c4",
   "metadata": {},
   "outputs": [],
   "source": [
    "doc = result.document # DoclingDocument"
   ]
  },
  {
   "cell_type": "code",
   "execution_count": 6,
   "id": "2025ce32",
   "metadata": {},
   "outputs": [
    {
     "data": {
      "text/plain": [
       "dict_keys(['schema_name', 'version', 'name', 'origin', 'furniture', 'body', 'groups', 'texts', 'pictures', 'tables', 'key_value_items', 'form_items', 'pages'])"
      ]
     },
     "execution_count": 6,
     "metadata": {},
     "output_type": "execute_result"
    }
   ],
   "source": [
    "json_dict = doc.export_to_dict()\n",
    "\n",
    "json_dict.keys()"
   ]
  },
  {
   "cell_type": "code",
   "execution_count": 7,
   "id": "e8909354",
   "metadata": {},
   "outputs": [],
   "source": [
    "# Optimized for large documents\n",
    "pipeline_options = PdfPipelineOptions(\n",
    "    max_num_pages=4,  # Limit processing to first 4 pages\n",
    "    page_range=[1, 3],  # Process specific page range\n",
    "    generate_page_images=False,  # Skip page images to save memory\n",
    "    do_table_structure=False,  # Skip table structure extraction\n",
    "    enable_parallel_processing=True  # Use multiple cores\n",
    ")"
   ]
  },
  {
   "cell_type": "code",
   "execution_count": 13,
   "id": "bdc15ffd",
   "metadata": {},
   "outputs": [
    {
     "name": "stderr",
     "output_type": "stream",
     "text": [
      "Token indices sequence length is longer than the specified maximum sequence length for this model (530 > 512). Running this sequence through the model will result in indexing errors\n"
     ]
    },
    {
     "name": "stdout",
     "output_type": "stream",
     "text": [
      "HybridChunker: 6 chunks\n",
      "Chunk length: 831 characters\n",
      "Chunk content: TORONTO, July 15, 2025 /CNW/ I....isoenergy.ca/sustainability/.\n",
      "--------------------------------------------------\n",
      "Chunk length: 2241 characters\n",
      "Chunk content: - Environmental achievements i...sustainability policy in 2025.\n",
      "--------------------------------------------------\n",
      "Chunk length: 876 characters\n",
      "Chunk content: IsoEnergy (NYSE American: ISOU...@IsoEnergyLtd www.isoenergy.ca\n",
      "--------------------------------------------------\n",
      "Chunk length: 956 characters\n",
      "Chunk content: This press release contains \"f...ll or may occur in the future.\n",
      "--------------------------------------------------\n",
      "Chunk length: 1443 characters\n",
      "Chunk content: Forw ard-looking statements ar...n forw ard-looking statements.\n",
      "--------------------------------------------------\n"
     ]
    }
   ],
   "source": [
    "from docling.chunking import HybridChunker\n",
    "\n",
    "# Process with HybridChunker (token-aware)\n",
    "hybrid_chunker = HybridChunker(max_tokens=512, overlap_tokens=50)\n",
    "hybrid_chunks = list(hybrid_chunker.chunk(doc))\n",
    "\n",
    "print(f\"HybridChunker: {len(hybrid_chunks)} chunks\")\n",
    "\n",
    "def print_chunk(chunk):\n",
    "    print(f\"Chunk length: {len(chunk.text)} characters\")\n",
    "    if len(chunk.text) > 30:\n",
    "        print(f\"Chunk content: {chunk.text[:30]}...{chunk.text[-30:]}\")\n",
    "    else:\n",
    "        print(f\"Chunk content: {chunk.text}\")\n",
    "    print(\"-\" * 50)\n",
    "\n",
    "# Print the first 3 chunks\n",
    "for chunk in hybrid_chunks[:5]:\n",
    "    print_chunk(chunk)\n"
   ]
  },
  {
   "cell_type": "code",
   "execution_count": null,
   "id": "2c5b15aa",
   "metadata": {},
   "outputs": [],
   "source": []
  }
 ],
 "metadata": {
  "kernelspec": {
   "display_name": "venv",
   "language": "python",
   "name": "python3"
  },
  "language_info": {
   "codemirror_mode": {
    "name": "ipython",
    "version": 3
   },
   "file_extension": ".py",
   "mimetype": "text/x-python",
   "name": "python",
   "nbconvert_exporter": "python",
   "pygments_lexer": "ipython3",
   "version": "3.13.5"
  }
 },
 "nbformat": 4,
 "nbformat_minor": 5
}
