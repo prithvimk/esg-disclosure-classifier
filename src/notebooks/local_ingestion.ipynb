{
 "cells": [
  {
   "cell_type": "code",
   "execution_count": null,
   "id": "5f391d15",
   "metadata": {},
   "outputs": [
    {
     "name": "stdout",
     "output_type": "stream",
     "text": [
      "['C:\\\\Users\\\\krish\\\\AppData\\\\Local\\\\Programs\\\\Python\\\\Python313\\\\python313.zip', '../../config', '../../', '../', '../config', '../config', 'C:\\\\Users\\\\krish\\\\AppData\\\\Local\\\\Programs\\\\Python\\\\Python313\\\\DLLs', 'C:\\\\Users\\\\krish\\\\AppData\\\\Local\\\\Programs\\\\Python\\\\Python313\\\\Lib', 'C:\\\\Users\\\\krish\\\\AppData\\\\Local\\\\Programs\\\\Python\\\\Python313', 'c:\\\\Users\\\\krish\\\\Work\\\\projects\\\\esg-disclosure-classifier\\\\venv', '', 'c:\\\\Users\\\\krish\\\\Work\\\\projects\\\\esg-disclosure-classifier\\\\venv\\\\Lib\\\\site-packages', 'c:\\\\Users\\\\krish\\\\Work\\\\projects\\\\esg-disclosure-classifier\\\\venv\\\\Lib\\\\site-packages\\\\win32', 'c:\\\\Users\\\\krish\\\\Work\\\\projects\\\\esg-disclosure-classifier\\\\venv\\\\Lib\\\\site-packages\\\\win32\\\\lib', 'c:\\\\Users\\\\krish\\\\Work\\\\projects\\\\esg-disclosure-classifier\\\\venv\\\\Lib\\\\site-packages\\\\Pythonwin']\n"
     ]
    }
   ],
   "source": [
    "import fitz\n",
    "from nltk.tokenize import sent_tokenize\n",
    "import pandas as pd\n",
    "import requests\n",
    "import pdfkit\n",
    "import time\n",
    "from tqdm.notebook import tqdm\n",
    "import sys\n",
    "import os\n",
    "\n",
    "sys.path.insert(1, \"../../config\")\n"
   ]
  },
  {
   "cell_type": "code",
   "execution_count": 9,
   "id": "8a955c0b",
   "metadata": {},
   "outputs": [],
   "source": [
    "from config.paths import METADATA_FILE, RAW_PDF_DIR, TEXT_DIR"
   ]
  },
  {
   "cell_type": "markdown",
   "id": "653dd403",
   "metadata": {},
   "source": [
    "## Preprocessing\n",
    "\n",
    "- Extract text & segment into sentences\n",
    "\n",
    "- Manually label ~500 sentences into ESG categories (small gold standard)"
   ]
  },
  {
   "cell_type": "code",
   "execution_count": 10,
   "id": "77f320f3",
   "metadata": {},
   "outputs": [],
   "source": [
    "def extract_all_text(pdf_path: os.PathLike, skip_pages=0):\n",
    "    \"\"\"Extracts all text from a PDF document.\"\"\"\n",
    "    with fitz.open(pdf_path) as doc:\n",
    "        full_text = \"\"\n",
    "        for page_num in range(skip_pages, doc.page_count):\n",
    "            page = doc.load_page(page_num)\n",
    "            full_text += page.get_text(\"text\") \n",
    "    return full_text"
   ]
  },
  {
   "cell_type": "markdown",
   "id": "399b7fc4",
   "metadata": {},
   "source": [
    "- Read data from `/data/raw` dir \n",
    "- extract text from pdfs\n",
    "- using `metadata-sample.xlsx` store into company folder and apt year folder"
   ]
  },
  {
   "cell_type": "code",
   "execution_count": 11,
   "id": "ecdf68cd",
   "metadata": {},
   "outputs": [
    {
     "data": {
      "text/html": [
       "<div>\n",
       "<style scoped>\n",
       "    .dataframe tbody tr th:only-of-type {\n",
       "        vertical-align: middle;\n",
       "    }\n",
       "\n",
       "    .dataframe tbody tr th {\n",
       "        vertical-align: top;\n",
       "    }\n",
       "\n",
       "    .dataframe thead th {\n",
       "        text-align: right;\n",
       "    }\n",
       "</style>\n",
       "<table border=\"1\" class=\"dataframe\">\n",
       "  <thead>\n",
       "    <tr style=\"text-align: right;\">\n",
       "      <th></th>\n",
       "      <th>filename</th>\n",
       "      <th>title</th>\n",
       "      <th>year</th>\n",
       "      <th>type</th>\n",
       "      <th>lang</th>\n",
       "      <th>pages</th>\n",
       "      <th>size</th>\n",
       "      <th>hash</th>\n",
       "      <th>company_name</th>\n",
       "      <th>company_srid</th>\n",
       "      <th>company_isin</th>\n",
       "      <th>company_country</th>\n",
       "      <th>company_exchange</th>\n",
       "      <th>company_mic</th>\n",
       "      <th>company_ticker</th>\n",
       "      <th>company_sector</th>\n",
       "      <th>report_edition</th>\n",
       "      <th>report_assurance</th>\n",
       "      <th>report_standards</th>\n",
       "    </tr>\n",
       "  </thead>\n",
       "  <tbody>\n",
       "    <tr>\n",
       "      <th>0</th>\n",
       "      <td>2021_Gym Group PLC_ESG</td>\n",
       "      <td>Gym Group PLC 2021 Sustainability Report</td>\n",
       "      <td>2021</td>\n",
       "      <td>Sustainability Report</td>\n",
       "      <td>EN</td>\n",
       "      <td>24</td>\n",
       "      <td>4.22</td>\n",
       "      <td>ddca6bd3b0f049006dead132c4c3e51c</td>\n",
       "      <td>Gym Group PLC</td>\n",
       "      <td>GB00BZBX0P70</td>\n",
       "      <td>GB00BZBX0P70</td>\n",
       "      <td>United Kingdom</td>\n",
       "      <td>London Stock Exchange</td>\n",
       "      <td>XLON</td>\n",
       "      <td>GYM</td>\n",
       "      <td>Arts, Entertainment, and Recreation</td>\n",
       "      <td>NaN</td>\n",
       "      <td>NaN</td>\n",
       "      <td>GRI; SASB</td>\n",
       "    </tr>\n",
       "  </tbody>\n",
       "</table>\n",
       "</div>"
      ],
      "text/plain": [
       "                 filename                                     title  year  \\\n",
       "0  2021_Gym Group PLC_ESG  Gym Group PLC 2021 Sustainability Report  2021   \n",
       "\n",
       "                    type lang  pages  size                              hash  \\\n",
       "0  Sustainability Report   EN     24  4.22  ddca6bd3b0f049006dead132c4c3e51c   \n",
       "\n",
       "     company_name  company_srid  company_isin company_country  \\\n",
       "0  Gym Group PLC   GB00BZBX0P70  GB00BZBX0P70  United Kingdom   \n",
       "\n",
       "        company_exchange company_mic company_ticker  \\\n",
       "0  London Stock Exchange        XLON            GYM   \n",
       "\n",
       "                        company_sector  report_edition report_assurance  \\\n",
       "0  Arts, Entertainment, and Recreation             NaN              NaN   \n",
       "\n",
       "  report_standards  \n",
       "0        GRI; SASB  "
      ]
     },
     "execution_count": 11,
     "metadata": {},
     "output_type": "execute_result"
    }
   ],
   "source": [
    "# read metadata sheet\n",
    "\n",
    "metadata = pd.read_excel(METADATA_FILE)\n",
    "\n",
    "metadata.head(1)"
   ]
  },
  {
   "cell_type": "code",
   "execution_count": null,
   "id": "583f392d",
   "metadata": {},
   "outputs": [
    {
     "data": {
      "text/plain": [
       "0      None\n",
       "1      None\n",
       "2      None\n",
       "3      None\n",
       "4      None\n",
       "       ... \n",
       "248    None\n",
       "249    None\n",
       "250    None\n",
       "251    None\n",
       "252    None\n",
       "Length: 253, dtype: object"
      ]
     },
     "execution_count": 33,
     "metadata": {},
     "output_type": "execute_result"
    }
   ],
   "source": [
    "# make dirs for storing extracted text\n",
    "\n",
    "metadata.loc[:, ['company_name', 'filename', 'year']].apply(lambda row: os.makedirs(TEXT_DIR / row.company_name.strip() / str(row.year), exist_ok=True), axis=1)"
   ]
  },
  {
   "cell_type": "code",
   "execution_count": 43,
   "id": "388b8104",
   "metadata": {},
   "outputs": [],
   "source": [
    "for row in metadata.loc[:, ['company_name', 'filename', 'year']].itertuples():\n",
    "\n",
    "    full_text = extract_all_text(RAW_PDF_DIR / (row.filename + '.pdf'))\n",
    "\n",
    "    with open(TEXT_DIR / row.company_name.strip() / str(row.year) / (row.filename + '.txt'), 'w', encoding='utf-8') as txt_file:\n",
    "\n",
    "        txt_file.write(full_text)\n",
    "    "
   ]
  },
  {
   "cell_type": "code",
   "execution_count": null,
   "id": "1cb91f28",
   "metadata": {},
   "outputs": [],
   "source": []
  }
 ],
 "metadata": {
  "kernelspec": {
   "display_name": "venv",
   "language": "python",
   "name": "python3"
  },
  "language_info": {
   "codemirror_mode": {
    "name": "ipython",
    "version": 3
   },
   "file_extension": ".py",
   "mimetype": "text/x-python",
   "name": "python",
   "nbconvert_exporter": "python",
   "pygments_lexer": "ipython3",
   "version": "3.13.5"
  }
 },
 "nbformat": 4,
 "nbformat_minor": 5
}
