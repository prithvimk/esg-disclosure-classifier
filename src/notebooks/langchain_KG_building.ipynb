{
 "cells": [
  {
   "cell_type": "code",
   "execution_count": 2,
   "id": "61823264",
   "metadata": {},
   "outputs": [],
   "source": [
    "from langchain_neo4j import Neo4jGraph"
   ]
  },
  {
   "cell_type": "code",
   "execution_count": 5,
   "id": "c56c1d12",
   "metadata": {},
   "outputs": [
    {
     "data": {
      "text/plain": [
       "<langchain_neo4j.graphs.neo4j_graph.Neo4jGraph at 0x1bb90ff4190>"
      ]
     },
     "execution_count": 5,
     "metadata": {},
     "output_type": "execute_result"
    }
   ],
   "source": [
    "graph = Neo4jGraph(\n",
    "                url=\"bolt://localhost:7687\",\n",
    "                username=\"neo4j\",\n",
    "                password=\"neo4jpassword\",\n",
    "                refresh_schema=False\n",
    "            )\n",
    "\n",
    "graph"
   ]
  },
  {
   "cell_type": "code",
   "execution_count": 3,
   "id": "5e5a8f0d",
   "metadata": {},
   "outputs": [],
   "source": [
    "from langchain_experimental.graph_transformers import LLMGraphTransformer\n",
    "from langchain_ollama import ChatOllama\n",
    "from langchain_core.documents import Document\n",
    "\n",
    "llm = ChatOllama(model=\"gemma3:1b\",\n",
    "    temperature=0)\n",
    "llm_transformer = LLMGraphTransformer(llm=llm)"
   ]
  },
  {
   "cell_type": "code",
   "execution_count": 17,
   "id": "d5a460c2",
   "metadata": {},
   "outputs": [],
   "source": [
    "text = \"\"\"\n",
    " Aker BP is committed to reducing CO2 emissions corresponding to our share of the KonKraft obligations in support of the Paris climate agreement. \n",
    " All our operations are located in Norway and \n",
    "have scope 1 and scope 2 emissions. Scope 3 emissions are partly estimated. Direct greenhouse gas (GHG) emissions (scope 1) \n",
    "were 891350 tonnes CO2e in 2018 compared to 913796 tonnes CO2e in 2017. Indirect GHG emissions (scope 2) increased from \n",
    "126180 tonnes CO2e in 2017 to 159391 tonnes CO2e in 2018, \n",
    "mainly due to increased sea water injection. GHG emissions \n",
    "include carbon dioxide (CO2) and methane (CH4). Emissions of \n",
    "NOx and SOX\n",
    " increased with 13 % and 11 % respectively, mainly \n",
    "due to increased drilling activity in 2018\n",
    "\"\"\"\n",
    "\n",
    "documents = [Document(page_content=text)]\n",
    "\n",
    "graph_documents = await llm_transformer.aconvert_to_graph_documents(documents)"
   ]
  },
  {
   "cell_type": "code",
   "execution_count": 25,
   "id": "8f04dad8",
   "metadata": {},
   "outputs": [],
   "source": [
    "allowed_nodes = ['Company', 'Report', 'Section', 'Metric', 'Measure', 'Target', 'Assurance', 'Claim', 'Evidence', 'Standard', 'Location', 'Methodology']\n",
    "\n",
    "allowed_relationships = [\n",
    "    ('Company', 'PUBLISHED', 'Report'),\n",
    "    ('Report', 'HAS_SECTION', 'Section'),\n",
    "    ('Section', 'MENTIONS', 'Metric'),\n",
    "    ('Metric', 'MEASURED_AS', 'Measure'),\n",
    "    ('Measure', 'COVERING', 'Location'),\n",
    "    ('Measure', 'SUPPORTED_BY', 'Evidence'),\n",
    "    ('Target', 'COVERS', 'Metric'),\n",
    "    ('Report', 'ASSURED_BY', 'Assurance'),\n",
    "]\n",
    "\n",
    "graph_transformer_nodes_defined = LLMGraphTransformer(llm=llm, allowed_nodes=allowed_nodes, allowed_relationships=allowed_relationships, \n",
    "                                                      additional_instructions=\"You are an expert in the field of ESG. Your task is to extract ESG disclosures and identify them as nodes and establish relationships between these nodes.\")\n",
    "graph_documents_nodes_defined = await graph_transformer_nodes_defined.aconvert_to_graph_documents(documents)\n",
    "\n"
   ]
  },
  {
   "cell_type": "code",
   "execution_count": 28,
   "id": "54fafea0",
   "metadata": {},
   "outputs": [
    {
     "data": {
      "text/plain": [
       "[]"
      ]
     },
     "execution_count": 28,
     "metadata": {},
     "output_type": "execute_result"
    }
   ],
   "source": [
    "graph_documents_nodes_defined[0].relationships"
   ]
  },
  {
   "cell_type": "code",
   "execution_count": null,
   "id": "8c620a11",
   "metadata": {},
   "outputs": [],
   "source": []
  }
 ],
 "metadata": {
  "kernelspec": {
   "display_name": "venv",
   "language": "python",
   "name": "python3"
  },
  "language_info": {
   "codemirror_mode": {
    "name": "ipython",
    "version": 3
   },
   "file_extension": ".py",
   "mimetype": "text/x-python",
   "name": "python",
   "nbconvert_exporter": "python",
   "pygments_lexer": "ipython3",
   "version": "3.13.5"
  }
 },
 "nbformat": 4,
 "nbformat_minor": 5
}
